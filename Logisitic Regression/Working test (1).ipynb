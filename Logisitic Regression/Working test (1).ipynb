{
 "cells": [
  {
   "cell_type": "code",
   "execution_count": 16,
   "metadata": {},
   "outputs": [
    {
     "data": {
      "image/png": "[encoded data removed]",
      "text/plain": [
       "<Figure size 432x288 with 1 Axes>"
      ]
     },
     "metadata": {
      "needs_background": "light"
     },
     "output_type": "display_data"
    }
   ],
   "source": [
    "import numpy as np\n",
    "import matplotlib.pyplot as plt\n",
    "import pandas as pd\n",
    "from scipy.optimize import fmin_tnc\n",
    "\n",
    "def load_data(path, header):\n",
    "    marks_df = pd.read_csv(path, header=header)\n",
    "    return marks_df\n",
    "\n",
    "\n",
    "if __name__ == \"__main__\":\n",
    "    # load the data from the file\n",
    "    data = load_data(\"data.txt\", None)\n",
    "\n",
    "    # X = feature values, all the columns except the last column\n",
    "    X = data.iloc[:, :-1]\n",
    "\n",
    "    # y = target values, last column of the data frame\n",
    "    y = data.iloc[:, -1]\n",
    "\n",
    "    # filter out the applicants that got admitted\n",
    "    admitted = data.loc[y == 1]\n",
    "\n",
    "    # filter out the applicants that din't get admission\n",
    "    not_admitted = data.loc[y == 0]\n",
    "\n",
    "    # plots\n",
    "    plt.scatter(admitted.iloc[:, 0], admitted.iloc[:, 1], s=10, label='Admitted')\n",
    "    plt.scatter(not_admitted.iloc[:, 0], not_admitted.iloc[:, 1], s=10, label='Not Admitted')\n",
    "    plt.legend()\n",
    "    plt.show()"
   ]
  },
  {
   "cell_type": "code",
   "execution_count": 17,
   "metadata": {},
   "outputs": [],
   "source": [
    "X = np.c_[np.ones((X.shape[0], 1)), X]\n",
    "y = y[:, np.newaxis]\n",
    "theta = np.zeros((X.shape[1], 1))"
   ]
  },
  {
   "cell_type": "code",
   "execution_count": 18,
   "metadata": {},
   "outputs": [
    {
     "data": {
      "text/plain": [
       "array([[ 1.        , 34.62365962, 78.02469282],\n",
       "       [ 1.        , 30.28671077, 43.89499752],\n",
       "       [ 1.        , 35.84740877, 72.90219803],\n",
       "       [ 1.        , 60.18259939, 86.3085521 ],\n",
       "       [ 1.        , 79.03273605, 75.34437644],\n",
       "       [ 1.        , 45.08327748, 56.31637178],\n",
       "       [ 1.        , 61.10666454, 96.51142588],\n",
       "       [ 1.        , 75.02474557, 46.55401354],\n",
       "       [ 1.        , 76.0987867 , 87.42056972],\n",
       "       [ 1.        , 84.43281996, 43.53339331],\n",
       "       [ 1.        , 95.86155507, 38.22527806],\n",
       "       [ 1.        , 75.01365839, 30.60326323],\n",
       "       [ 1.        , 82.30705337, 76.4819633 ],\n",
       "       [ 1.        , 69.36458876, 97.71869196],\n",
       "       [ 1.        , 39.53833914, 76.03681085],\n",
       "       [ 1.        , 53.97105215, 89.20735014],\n",
       "       [ 1.        , 69.07014406, 52.74046973],\n",
       "       [ 1.        , 67.94685548, 46.67857411],\n",
       "       [ 1.        , 70.66150955, 92.92713789],\n",
       "       [ 1.        , 76.97878373, 47.57596365],\n",
       "       [ 1.        , 67.37202755, 42.83843832],\n",
       "       [ 1.        , 89.67677575, 65.79936593],\n",
       "       [ 1.        , 50.53478829, 48.85581153],\n",
       "       [ 1.        , 34.21206098, 44.2095286 ],\n",
       "       [ 1.        , 77.92409145, 68.97235999],\n",
       "       [ 1.        , 62.27101367, 69.95445795],\n",
       "       [ 1.        , 80.19018075, 44.82162893],\n",
       "       [ 1.        , 93.1143888 , 38.80067034],\n",
       "       [ 1.        , 61.83020602, 50.25610789],\n",
       "       [ 1.        , 38.7858038 , 64.99568096],\n",
       "       [ 1.        , 61.37928945, 72.80788731],\n",
       "       [ 1.        , 85.40451939, 57.05198398],\n",
       "       [ 1.        , 52.10797973, 63.12762377],\n",
       "       [ 1.        , 52.04540477, 69.43286012],\n",
       "       [ 1.        , 40.23689374, 71.16774802],\n",
       "       [ 1.        , 54.63510555, 52.21388588],\n",
       "       [ 1.        , 33.91550011, 98.86943574],\n",
       "       [ 1.        , 64.17698887, 80.90806059],\n",
       "       [ 1.        , 74.78925296, 41.57341523],\n",
       "       [ 1.        , 34.18364003, 75.23772034],\n",
       "       [ 1.        , 83.90239366, 56.30804622],\n",
       "       [ 1.        , 51.54772027, 46.85629026],\n",
       "       [ 1.        , 94.44336777, 65.56892161],\n",
       "       [ 1.        , 82.36875376, 40.61825516],\n",
       "       [ 1.        , 51.04775177, 45.82270146],\n",
       "       [ 1.        , 62.22267576, 52.06099195],\n",
       "       [ 1.        , 77.19303493, 70.4582    ],\n",
       "       [ 1.        , 97.77159928, 86.72782233],\n",
       "       [ 1.        , 62.0730638 , 96.76882412],\n",
       "       [ 1.        , 91.5649745 , 88.69629255],\n",
       "       [ 1.        , 79.94481794, 74.16311935],\n",
       "       [ 1.        , 99.27252693, 60.999031  ],\n",
       "       [ 1.        , 90.54671411, 43.39060181],\n",
       "       [ 1.        , 34.52451385, 60.39634246],\n",
       "       [ 1.        , 50.28649612, 49.80453881],\n",
       "       [ 1.        , 49.58667722, 59.80895099],\n",
       "       [ 1.        , 97.64563396, 68.86157272],\n",
       "       [ 1.        , 32.57720017, 95.59854761],\n",
       "       [ 1.        , 74.24869137, 69.82457123],\n",
       "       [ 1.        , 71.79646206, 78.45356225],\n",
       "       [ 1.        , 75.39561147, 85.75993667],\n",
       "       [ 1.        , 35.28611282, 47.02051395],\n",
       "       [ 1.        , 56.2538175 , 39.26147251],\n",
       "       [ 1.        , 30.05882245, 49.59297387],\n",
       "       [ 1.        , 44.66826172, 66.45008615],\n",
       "       [ 1.        , 66.56089447, 41.09209808],\n",
       "       [ 1.        , 40.45755098, 97.53518549],\n",
       "       [ 1.        , 49.07256322, 51.88321182],\n",
       "       [ 1.        , 80.27957401, 92.11606081],\n",
       "       [ 1.        , 66.74671857, 60.99139403],\n",
       "       [ 1.        , 32.72283304, 43.30717306],\n",
       "       [ 1.        , 64.03932042, 78.03168802],\n",
       "       [ 1.        , 72.34649423, 96.22759297],\n",
       "       [ 1.        , 60.45788574, 73.0949981 ],\n",
       "       [ 1.        , 58.84095622, 75.85844831],\n",
       "       [ 1.        , 99.8278578 , 72.36925193],\n",
       "       [ 1.        , 47.26426911, 88.475865  ],\n",
       "       [ 1.        , 50.4581598 , 75.80985953],\n",
       "       [ 1.        , 60.45555629, 42.50840944],\n",
       "       [ 1.        , 82.22666158, 42.71987854],\n",
       "       [ 1.        , 88.91389642, 69.8037889 ],\n",
       "       [ 1.        , 94.83450672, 45.6943068 ],\n",
       "       [ 1.        , 67.31925747, 66.58935318],\n",
       "       [ 1.        , 57.23870632, 59.51428198],\n",
       "       [ 1.        , 80.366756  , 90.9601479 ],\n",
       "       [ 1.        , 68.46852179, 85.5943071 ],\n",
       "       [ 1.        , 42.07545454, 78.844786  ],\n",
       "       [ 1.        , 75.47770201, 90.424539  ],\n",
       "       [ 1.        , 78.63542435, 96.64742717],\n",
       "       [ 1.        , 52.34800399, 60.76950526],\n",
       "       [ 1.        , 94.09433113, 77.15910509],\n",
       "       [ 1.        , 90.44855097, 87.50879176],\n",
       "       [ 1.        , 55.48216114, 35.57070347],\n",
       "       [ 1.        , 74.49269242, 84.84513685],\n",
       "       [ 1.        , 89.84580671, 45.35828361],\n",
       "       [ 1.        , 83.48916274, 48.3802858 ],\n",
       "       [ 1.        , 42.26170081, 87.10385094],\n",
       "       [ 1.        , 99.31500881, 68.77540947],\n",
       "       [ 1.        , 55.34001756, 64.93193801],\n",
       "       [ 1.        , 74.775893  , 89.5298129 ]])"
      ]
     },
     "execution_count": 18,
     "metadata": {},
     "output_type": "execute_result"
    }
   ],
   "source": [
    "X"
   ]
  },
  {
   "cell_type": "code",
   "execution_count": 19,
   "metadata": {},
   "outputs": [
    {
     "data": {
      "text/plain": [
       "array([[0],\n",
       "       [0],\n",
       "       [0],\n",
       "       [1],\n",
       "       [1],\n",
       "       [0],\n",
       "       [1],\n",
       "       [1],\n",
       "       [1],\n",
       "       [1],\n",
       "       [0],\n",
       "       [0],\n",
       "       [1],\n",
       "       [1],\n",
       "       [0],\n",
       "       [1],\n",
       "       [1],\n",
       "       [0],\n",
       "       [1],\n",
       "       [1],\n",
       "       [0],\n",
       "       [1],\n",
       "       [0],\n",
       "       [0],\n",
       "       [1],\n",
       "       [1],\n",
       "       [1],\n",
       "       [0],\n",
       "       [0],\n",
       "       [0],\n",
       "       [1],\n",
       "       [1],\n",
       "       [0],\n",
       "       [1],\n",
       "       [0],\n",
       "       [0],\n",
       "       [0],\n",
       "       [1],\n",
       "       [0],\n",
       "       [0],\n",
       "       [1],\n",
       "       [0],\n",
       "       [1],\n",
       "       [0],\n",
       "       [0],\n",
       "       [0],\n",
       "       [1],\n",
       "       [1],\n",
       "       [1],\n",
       "       [1],\n",
       "       [1],\n",
       "       [1],\n",
       "       [1],\n",
       "       [0],\n",
       "       [0],\n",
       "       [0],\n",
       "       [1],\n",
       "       [0],\n",
       "       [1],\n",
       "       [1],\n",
       "       [1],\n",
       "       [0],\n",
       "       [0],\n",
       "       [0],\n",
       "       [0],\n",
       "       [0],\n",
       "       [1],\n",
       "       [0],\n",
       "       [1],\n",
       "       [1],\n",
       "       [0],\n",
       "       [1],\n",
       "       [1],\n",
       "       [1],\n",
       "       [1],\n",
       "       [1],\n",
       "       [1],\n",
       "       [1],\n",
       "       [0],\n",
       "       [0],\n",
       "       [1],\n",
       "       [1],\n",
       "       [1],\n",
       "       [1],\n",
       "       [1],\n",
       "       [1],\n",
       "       [0],\n",
       "       [1],\n",
       "       [1],\n",
       "       [0],\n",
       "       [1],\n",
       "       [1],\n",
       "       [0],\n",
       "       [1],\n",
       "       [1],\n",
       "       [1],\n",
       "       [1],\n",
       "       [1],\n",
       "       [1],\n",
       "       [1]], dtype=int64)"
      ]
     },
     "execution_count": 19,
     "metadata": {},
     "output_type": "execute_result"
    }
   ],
   "source": [
    "y"
   ]
  },
  {
   "cell_type": "code",
   "execution_count": 20,
   "metadata": {},
   "outputs": [
    {
     "data": {
      "text/plain": [
       "array([[0.],\n",
       "       [0.],\n",
       "       [0.]])"
      ]
     },
     "execution_count": 20,
     "metadata": {},
     "output_type": "execute_result"
    }
   ],
   "source": [
    "theta"
   ]
  },
  {
   "cell_type": "code",
   "execution_count": 3,
   "metadata": {},
   "outputs": [],
   "source": [
    "def sigmoid(x):\n",
    "    # Activation function used to map any real value between 0 and 1\n",
    "    return 1 / (1 + np.exp(-x))\n",
    "\n",
    "def net_input(theta, x):\n",
    "    # Computes the weighted sum of inputs\n",
    "    return np.dot(x, theta)\n",
    "\n",
    "def probability(theta, x):\n",
    "    # Returns the probability after passing through sigmoid\n",
    "    return sigmoid(net_input(theta, x))"
   ]
  },
  {
   "cell_type": "code",
   "execution_count": 23,
   "metadata": {},
   "outputs": [],
   "source": [
    "def cost_function(theta, x, y):\n",
    "    # Computes the cost function for all the training samples\n",
    "    m = x.shape[0]\n",
    "    total_cost = -(1 / m) * np.sum(\n",
    "        y * np.log(probability(theta, x)) + (1 - y) * np.log(\n",
    "            1 - probability(theta, x)))\n",
    "    return total_cost\n",
    "\n",
    "def gradient(theta, x, y):\n",
    "    # Computes the gradient of the cost function at the point theta\n",
    "    m = x.shape[0]\n",
    "    return (1 / m) * np.dot(x.T, sigmoid(net_input(theta,   x)) - y)"
   ]
  },
  {
   "cell_type": "code",
   "execution_count": 24,
   "metadata": {},
   "outputs": [
    {
     "data": {
      "text/plain": [
       "0.6931471805599453"
      ]
     },
     "execution_count": 24,
     "metadata": {},
     "output_type": "execute_result"
    }
   ],
   "source": [
    "cost_function(theta, X, y)"
   ]
  },
  {
   "cell_type": "code",
   "execution_count": 26,
   "metadata": {},
   "outputs": [],
   "source": [
    "def fit(x, y, theta):\n",
    "    opt_weights = fmin_tnc(func=cost_function, x0=theta,\n",
    "                  fprime=gradient,args=(x, y.flatten()))\n",
    "    return opt_weights[0]\n",
    "parameters = fit(X, y.flatten(), theta)"
   ]
  },
  {
   "cell_type": "code",
   "execution_count": 27,
   "metadata": {},
   "outputs": [
    {
     "data": {
      "text/plain": [
       "array([-25.16131854,   0.20623159,   0.20147149])"
      ]
     },
     "execution_count": 27,
     "metadata": {},
     "output_type": "execute_result"
    }
   ],
   "source": [
    "parameters"
   ]
  },
  {
   "cell_type": "code",
   "execution_count": 28,
   "metadata": {},
   "outputs": [
    {
     "data": {
      "image/png": "[encoded data removed]",
      "text/plain": [
       "<Figure size 432x288 with 1 Axes>"
      ]
     },
     "metadata": {
      "needs_background": "light"
     },
     "output_type": "display_data"
    }
   ],
   "source": [
    "x_values = [np.min(X[:, 1] - 5), np.max(X[:, 2] + 5)]\n",
    "y_values = - (parameters[0] + np.dot(parameters[1], x_values)) / parameters[2]\n",
    "\n",
    "plt.plot(x_values, y_values, label='Decision Boundary')\n",
    "plt.scatter(admitted.iloc[:, 0], admitted.iloc[:, 1], s=10, label='Admitted')\n",
    "plt.scatter(not_admitted.iloc[:, 0], not_admitted.iloc[:, 1], s=10, label='Not Admitted')\n",
    "plt.xlabel('Marks in 1st Exam')\n",
    "plt.ylabel('Marks in 2nd Exam')\n",
    "plt.legend()\n",
    "plt.show()"
   ]
  },
  {
   "cell_type": "code",
   "execution_count": 7,
   "metadata": {},
   "outputs": [
    {
     "data": {
      "text/plain": [
       "array([99.23686105, 18.56421442])"
      ]
     },
     "execution_count": 7,
     "metadata": {},
     "output_type": "execute_result"
    }
   ],
   "source": [
    "y_values"
   ]
  },
  {
   "cell_type": "code",
   "execution_count": 25,
   "metadata": {},
   "outputs": [],
   "source": [
    "def get_min(x, y, theta):\n",
    "    opt_weights = minimize(cost_function, theta, method=\"CG\", jac=gradient, args=(x,y))\n",
    "    return opt_weights"
   ]
  },
  {
   "cell_type": "code",
   "execution_count": null,
   "metadata": {},
   "outputs": [],
   "source": []
  }
 ],
 "metadata": {
  "kernelspec": {
   "display_name": "Python 3",
   "language": "python",
   "name": "python3"
  },
  "language_info": {
   "codemirror_mode": {
    "name": "ipython",
    "version": 3
   },
   "file_extension": ".py",
   "mimetype": "text/x-python",
   "name": "python",
   "nbconvert_exporter": "python",
   "pygments_lexer": "ipython3",
   "version": "3.7.5"
  }
 },
 "nbformat": 4,
 "nbformat_minor": 4
}
