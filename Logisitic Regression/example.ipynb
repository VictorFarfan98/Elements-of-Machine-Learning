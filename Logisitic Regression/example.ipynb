{
 "cells": [
  {
   "cell_type": "code",
   "execution_count": 1,
   "metadata": {},
   "outputs": [],
   "source": [
    "import numpy as np "
   ]
  },
  {
   "cell_type": "code",
   "execution_count": 3,
   "metadata": {},
   "outputs": [
    {
     "ename": "ValueError",
     "evalue": "could not broadcast input array from shape (100,1) into shape (1,1)",
     "output_type": "error",
     "traceback": [
      "\u001b[1;31m---------------------------------------------------------------------------\u001b[0m",
      "\u001b[1;31mValueError\u001b[0m                                Traceback (most recent call last)",
      "\u001b[1;32m<ipython-input-3-710abef71e3e>\u001b[0m in \u001b[0;36m<module>\u001b[1;34m\u001b[0m\n\u001b[0;32m     10\u001b[0m \u001b[0mx_0\u001b[0m \u001b[1;33m=\u001b[0m \u001b[0mnp\u001b[0m\u001b[1;33m.\u001b[0m\u001b[0mzeros\u001b[0m\u001b[1;33m(\u001b[0m\u001b[0mTRAINING_ELEMENTS\u001b[0m\u001b[1;33m)\u001b[0m\u001b[1;33m.\u001b[0m\u001b[0mreshape\u001b[0m\u001b[1;33m(\u001b[0m\u001b[0mTRAINING_ELEMENTS\u001b[0m\u001b[1;33m,\u001b[0m \u001b[1;36m1\u001b[0m\u001b[1;33m)\u001b[0m\u001b[1;33m\u001b[0m\u001b[1;33m\u001b[0m\u001b[0m\n\u001b[0;32m     11\u001b[0m \u001b[0mx_0\u001b[0m\u001b[1;33m[\u001b[0m\u001b[1;33m:\u001b[0m\u001b[0mTRAINING_ELEMENTS_POSITIVE_CLASS\u001b[0m\u001b[1;33m]\u001b[0m \u001b[1;33m=\u001b[0m \u001b[0mx_positive_0\u001b[0m\u001b[1;33m\u001b[0m\u001b[1;33m\u001b[0m\u001b[0m\n\u001b[1;32m---> 12\u001b[1;33m \u001b[0mx_0\u001b[0m\u001b[1;33m[\u001b[0m\u001b[1;33m:\u001b[0m\u001b[0mTRAINING_ELEMENTS_POSITIVE_CLASS\u001b[0m\u001b[1;33m:\u001b[0m\u001b[0mTRAINING_ELEMENTS\u001b[0m\u001b[1;33m]\u001b[0m \u001b[1;33m=\u001b[0m \u001b[0mx_negative_0\u001b[0m\u001b[1;33m\u001b[0m\u001b[1;33m\u001b[0m\u001b[0m\n\u001b[0m\u001b[0;32m     13\u001b[0m \u001b[1;33m\u001b[0m\u001b[0m\n\u001b[0;32m     14\u001b[0m \u001b[0mx_1\u001b[0m \u001b[1;33m=\u001b[0m \u001b[0mnp\u001b[0m\u001b[1;33m.\u001b[0m\u001b[0mzeros\u001b[0m\u001b[1;33m(\u001b[0m\u001b[0mTRAINING_ELEMENTS\u001b[0m\u001b[1;33m)\u001b[0m\u001b[1;33m.\u001b[0m\u001b[0mreshape\u001b[0m\u001b[1;33m(\u001b[0m\u001b[0mTRAINING_ELEMENTS\u001b[0m\u001b[1;33m,\u001b[0m \u001b[1;36m1\u001b[0m\u001b[1;33m)\u001b[0m\u001b[1;33m\u001b[0m\u001b[1;33m\u001b[0m\u001b[0m\n",
      "\u001b[1;31mValueError\u001b[0m: could not broadcast input array from shape (100,1) into shape (1,1)"
     ]
    }
   ],
   "source": [
    "block = 2 \n",
    "TRAINING_ELEMENTS_POSITIVE_CLASS = 100\n",
    "TRAINING_ELEMENTS_NEGATIVE_CLASS = 100\n",
    "TRAINING_ELEMENTS = TRAINING_ELEMENTS_POSITIVE_CLASS + TRAINING_ELEMENTS_NEGATIVE_CLASS\n",
    "x_positive_0 = np.random.rand(TRAINING_ELEMENTS_POSITIVE_CLASS, 1) * block + (6 - 2 * block)\n",
    "x_positive_1 = np.random.rand(TRAINING_ELEMENTS_POSITIVE_CLASS, 1) * block + (6 - 2 * block)\n",
    "x_negative_0 = np.random.rand(TRAINING_ELEMENTS_NEGATIVE_CLASS, 1) * block\n",
    "x_negative_1 = np.random.rand(TRAINING_ELEMENTS_NEGATIVE_CLASS, 1) * block\n",
    "\n",
    "x_0 = np.zeros(TRAINING_ELEMENTS).reshape(TRAINING_ELEMENTS, 1)\n",
    "x_0[:TRAINING_ELEMENTS_POSITIVE_CLASS] = x_positive_0\n",
    "x_0[:TRAINING_ELEMENTS_POSITIVE_CLASS:TRAINING_ELEMENTS] = x_negative_0\n",
    "\n",
    "x_1 = np.zeros(TRAINING_ELEMENTS).reshape(TRAINING_ELEMENTS, 1)\n",
    "x_1[:TRAINING_ELEMENTS_POSITIVE_CLASS] = x_positive_1\n",
    "x_1[:TRAINING_ELEMENTS_POSITIVE_CLASS:TRAINING_ELEMENTS] = x_negative_1\n",
    "\n",
    "X = np.hstack(\n",
    "    (\n",
    "        np.ones(TRAINING_ELEMENTS).reshape(TRAINING_ELEMENTS, 1),\n",
    "        x_0,\n",
    "        x_1\n",
    "    )\n",
    ")"
   ]
  },
  {
   "cell_type": "code",
   "execution_count": null,
   "metadata": {},
   "outputs": [],
   "source": []
  }
 ],
 "metadata": {
  "kernelspec": {
   "display_name": "Python 3",
   "language": "python",
   "name": "python3"
  },
  "language_info": {
   "codemirror_mode": {
    "name": "ipython",
    "version": 3
   },
   "file_extension": ".py",
   "mimetype": "text/x-python",
   "name": "python",
   "nbconvert_exporter": "python",
   "pygments_lexer": "ipython3",
   "version": "3.7.5"
  }
 },
 "nbformat": 4,
 "nbformat_minor": 4
}
