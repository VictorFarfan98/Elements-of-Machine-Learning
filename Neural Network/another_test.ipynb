{
 "cells": [
  {
   "cell_type": "code",
   "execution_count": 9,
   "metadata": {},
   "outputs": [],
   "source": [
    "import time\n",
    "import pickle\n",
    "import random\n",
    "import pandas as pd\n",
    "\n",
    "import numpy as np\n",
    "import matplotlib.pyplot as plt\n",
    "\n",
    "from sklearn.preprocessing import MinMaxScaler\n",
    "import scipy.optimize as op\n",
    "\n",
    "import copy "
   ]
  },
  {
   "cell_type": "code",
   "execution_count": 5,
   "metadata": {},
   "outputs": [],
   "source": [
    "from utils import mnist_reader\n",
    "x_train, y_train = mnist_reader.load_mnist('data/fashion', kind='train')\n",
    "x_test, y_test = mnist_reader.load_mnist('data/fashion', kind='t10k')\n",
    "m, n = X_train.shape\n",
    "Y_train = pd.get_dummies(y_train)\n",
    "Y_test = pd.get_dummies(y_test)"
   ]
  },
  {
   "cell_type": "code",
   "execution_count": 75,
   "metadata": {},
   "outputs": [],
   "source": [
    "def sigmoid(values):\n",
    "    return 1 / (1 + np.exp(-values))\n",
    "\n",
    "def forward_setup(nodos,X,Y,hidden_layers):\n",
    "    nodos.insert(0,X.shape[1])\n",
    "    nodos.append(len(Y[0]))\n",
    "    nodes = [i + 1 for i in nodos]\n",
    "\n",
    "    # red, mesh de thetas \n",
    "    thetas = []\n",
    "    # por el momento le voy a poner mas 1 por la output layer \n",
    "    for i in range(hidden_layers + 1):\n",
    "        temp_primero = np.expand_dims(np.asarray([(np.random.randn() / 5) for i in range(nodes[i])],dtype='float64'),1)\n",
    "        thetas.append(np.matrix(np.asarray(\n",
    "            [temp_primero for i in range(nodos[i + 1])]\n",
    "            )))\n",
    "    return thetas\n",
    "\n",
    "def forward_prop(X,thetas):\n",
    "    inicial = X.T      \n",
    "    trace = [inicial]\n",
    "    for i in range(len(thetas)):\n",
    "        interno = np.matmul(\n",
    "            thetas[i],\n",
    "            np.vstack(\n",
    "                [np.expand_dims(np.ones(trace[i].shape[1]),0),\n",
    "                trace[i]]\n",
    "                )\n",
    "        )\n",
    "        trace.append(sigmoid(interno))\n",
    "    return trace \n",
    "\n",
    "def backward_prop(thetas,shapes,X,Y):\n",
    "    m,_ = X.shape\n",
    "    # regresar a su normalidad \n",
    "    thetas = unflatten_zetas(thetas,shapes)\n",
    "    delta = copy.deepcopy(thetas)\n",
    "    for i in delta: i[:] = 0\n",
    "    activation_trace = forward_prop(X,thetas)\n",
    "    print(\"a\", activation_trace[-1].shape)\n",
    "    print(\"Y\", Y.T.shape)\n",
    "    first_delta = activation_trace[-1] - Y.T\n",
    "    deltas = [first_delta]\n",
    "    # backward prop \n",
    "    print(\"1st delta:\", first_delta.shape)\n",
    "    print(\"Thetas\", thetas[1].T[1:,:].shape)\n",
    "    print('a:', activation_trace[1].shape)\n",
    "    for i in reversed(range(1,len(thetas))):\n",
    "        first_delta = np.multiply(\n",
    "            np.matmul(thetas[i].T[1:,:],first_delta),\n",
    "            np.multiply(activation_trace[i],(1-activation_trace[i]))\n",
    "            )\n",
    "        deltas.append(first_delta)\n",
    "    deltas.append(None)\n",
    "\n",
    "    deltas = list(reversed(deltas))\n",
    "    for i in range(len(delta)):\n",
    "        temp_shape = activation_trace[i].shape\n",
    "        print(\"i:\", i)\n",
    "        print(\"temp_shape:\", temp_shape)\n",
    "        print(\"AAAA:\", activation_trace[i].shape)\n",
    "        print(\"Deltas: \", deltas[i + 1].shape)\n",
    "        multi_res = np.matmul(\n",
    "            deltas[i + 1],\n",
    "            np.vstack([np.ones((1,temp_shape[1])),activation_trace[i]]).T\n",
    "            )\n",
    "        print(\"delta[i]\", delta[i].shape)\n",
    "        print(\"multires \",multi_res.shape)\n",
    "        print(\"m\", m)\n",
    "        delta[i] += multi_res / m\n",
    "    return flatten_zetas(delta)[0]\n",
    "    \n",
    "def flatten_zetas(thetas):\n",
    "    flat_zetas = np.asarray([])\n",
    "    shapes = []\n",
    "    for i in thetas:\n",
    "        shapes.append(i.shape)\n",
    "        flat_zetas = np.concatenate((flat_zetas,np.ravel(i)))\n",
    "    return (flat_zetas,shapes)\n",
    "\n",
    "def unflatten_zetas(flat_thetas,shapes):\n",
    "    print(shapes)\n",
    "    print(flat_thetas)\n",
    "    res = []\n",
    "    for i in shapes:\n",
    "        cantidad = i[0] * i[1]  \n",
    "        res.append(flat_thetas[:cantidad].reshape(i))\n",
    "    return res \n",
    "\n",
    "def cost(thetas,shapes,X,Y):\n",
    "    thetas = unflatten_zetas(thetas,shapes)\n",
    "    h = forward_prop(X,thetas)[-1]\n",
    "    calculate = (Y * np.log(h).T) + ((1 - Y) * np.log(1 - h).T)\n",
    "    print(np.sum(calculate) / (- X.shape[0]))\n",
    "    return np.sum(calculate) / (- X.shape[0])"
   ]
  },
  {
   "cell_type": "code",
   "execution_count": 56,
   "metadata": {},
   "outputs": [
    {
     "data": {
      "image/png": "[encoded data removed]",
      "text/plain": [
       "<Figure size 432x288 with 1 Axes>"
      ]
     },
     "metadata": {
      "needs_background": "light"
     },
     "output_type": "display_data"
    },
    {
     "name": "stdout",
     "output_type": "stream",
     "text": [
      "5\n"
     ]
    }
   ],
   "source": [
    "example = plt.imshow(x_train[-1].reshape(28,28))\n",
    "plt.show()\n",
    "print(y_train[-1])\n",
    "x_train_ingreso = x_train / 1000\n",
    "x_test_ingreso = x_test / 1000\n",
    "categorias = 10\n",
    "y_train_ingreso = (np.expand_dims(y_train,1) == np.arange(categorias)).astype(int)\n",
    "y_test_ingreso = (np.expand_dims(y_test,1) == np.arange(categorias)).astype(int)\n"
   ]
  },
  {
   "cell_type": "code",
   "execution_count": 28,
   "metadata": {},
   "outputs": [
    {
     "data": {
      "text/plain": [
       "array([[0, 0, 0, ..., 0, 0, 1],\n",
       "       [1, 0, 0, ..., 0, 0, 0],\n",
       "       [1, 0, 0, ..., 0, 0, 0],\n",
       "       ...,\n",
       "       [0, 0, 0, ..., 0, 0, 0],\n",
       "       [1, 0, 0, ..., 0, 0, 0],\n",
       "       [0, 0, 0, ..., 0, 0, 0]])"
      ]
     },
     "execution_count": 28,
     "metadata": {},
     "output_type": "execute_result"
    }
   ],
   "source": [
    "y_train_ingreso"
   ]
  },
  {
   "cell_type": "code",
   "execution_count": 35,
   "metadata": {},
   "outputs": [
    {
     "name": "stdout",
     "output_type": "stream",
     "text": [
      "[(500, 785), (10, 501)]\n",
      "[-0.33611428 -0.10646436 -0.19824408 ...  0.06778271  0.34318333\n",
      " -0.20871149]\n",
      "[matrix([[-0.33611428, -0.10646436, -0.19824408, ...,  0.19708144,\n",
      "         -0.23616315,  0.1803861 ],\n",
      "        [-0.33611428, -0.10646436, -0.19824408, ...,  0.19708144,\n",
      "         -0.23616315,  0.1803861 ],\n",
      "        [-0.33611428, -0.10646436, -0.19824408, ...,  0.19708144,\n",
      "         -0.23616315,  0.1803861 ],\n",
      "        ...,\n",
      "        [-0.33611428, -0.10646436, -0.19824408, ...,  0.19708144,\n",
      "         -0.23616315,  0.1803861 ],\n",
      "        [-0.33611428, -0.10646436, -0.19824408, ...,  0.19708144,\n",
      "         -0.23616315,  0.1803861 ],\n",
      "        [-0.33611428, -0.10646436, -0.19824408, ...,  0.19708144,\n",
      "         -0.23616315,  0.1803861 ]]), matrix([[-0.02445318,  0.07652733,  0.43564926, ...,  0.06778271,\n",
      "          0.34318333, -0.20871149],\n",
      "        [-0.02445318,  0.07652733,  0.43564926, ...,  0.06778271,\n",
      "          0.34318333, -0.20871149],\n",
      "        [-0.02445318,  0.07652733,  0.43564926, ...,  0.06778271,\n",
      "          0.34318333, -0.20871149],\n",
      "        ...,\n",
      "        [-0.02445318,  0.07652733,  0.43564926, ...,  0.06778271,\n",
      "          0.34318333, -0.20871149],\n",
      "        [-0.02445318,  0.07652733,  0.43564926, ...,  0.06778271,\n",
      "          0.34318333, -0.20871149],\n",
      "        [-0.02445318,  0.07652733,  0.43564926, ...,  0.06778271,\n",
      "          0.34318333, -0.20871149]])]\n"
     ]
    }
   ],
   "source": [
    "architecture = [500]\n",
    "thetas = forward_setup(architecture,x_train_ingreso, y_train_ingreso, len(architecture))\n",
    "flat_thetas = flatten_zetas(thetas)\n",
    "print(flat_thetas[1])\n",
    "print(flat_thetas[0])\n",
    "print(thetas)"
   ]
  },
  {
   "cell_type": "code",
   "execution_count": 55,
   "metadata": {},
   "outputs": [
    {
     "data": {
      "text/plain": [
       "(array([-0.33611428, -0.10646436, -0.19824408, ...,  0.06778271,\n",
       "         0.34318333, -0.20871149]),\n",
       " [(500, 785), (10, 501)])"
      ]
     },
     "execution_count": 55,
     "metadata": {},
     "output_type": "execute_result"
    }
   ],
   "source": [
    "flat_thetas"
   ]
  },
  {
   "cell_type": "code",
   "execution_count": 29,
   "metadata": {},
   "outputs": [
    {
     "data": {
      "text/plain": [
       "[array([[0., 0., 0., ..., 0., 0., 0.],\n",
       "        [0., 0., 0., ..., 0., 0., 0.],\n",
       "        [0., 0., 0., ..., 0., 0., 0.],\n",
       "        ...,\n",
       "        [0., 0., 0., ..., 0., 0., 0.],\n",
       "        [0., 0., 0., ..., 0., 0., 0.],\n",
       "        [0., 0., 0., ..., 0., 0., 0.]]),\n",
       " matrix([[0.62659561, 0.71645686, 0.61458602, ..., 0.42748098, 0.64930056,\n",
       "          0.5275592 ],\n",
       "         [0.62659561, 0.71645686, 0.61458602, ..., 0.42748098, 0.64930056,\n",
       "          0.5275592 ],\n",
       "         [0.62659561, 0.71645686, 0.61458602, ..., 0.42748098, 0.64930056,\n",
       "          0.5275592 ],\n",
       "         ...,\n",
       "         [0.62659561, 0.71645686, 0.61458602, ..., 0.42748098, 0.64930056,\n",
       "          0.5275592 ],\n",
       "         [0.62659561, 0.71645686, 0.61458602, ..., 0.42748098, 0.64930056,\n",
       "          0.5275592 ],\n",
       "         [0.62659561, 0.71645686, 0.61458602, ..., 0.42748098, 0.64930056,\n",
       "          0.5275592 ]]),\n",
       " matrix([[0.99750462, 0.99893155, 0.99720538, ..., 0.9838272 , 0.99798576,\n",
       "          0.99365922],\n",
       "         [0.99750462, 0.99893155, 0.99720538, ..., 0.9838272 , 0.99798576,\n",
       "          0.99365922],\n",
       "         [0.99750462, 0.99893155, 0.99720538, ..., 0.9838272 , 0.99798576,\n",
       "          0.99365922],\n",
       "         ...,\n",
       "         [0.99750462, 0.99893155, 0.99720538, ..., 0.9838272 , 0.99798576,\n",
       "          0.99365922],\n",
       "         [0.99750462, 0.99893155, 0.99720538, ..., 0.9838272 , 0.99798576,\n",
       "          0.99365922],\n",
       "         [0.99750462, 0.99893155, 0.99720538, ..., 0.9838272 , 0.99798576,\n",
       "          0.99365922]])]"
      ]
     },
     "execution_count": 29,
     "metadata": {},
     "output_type": "execute_result"
    }
   ],
   "source": [
    "forward_prop(x_train_ingreso, thetas)"
   ]
  },
  {
   "cell_type": "code",
   "execution_count": 38,
   "metadata": {},
   "outputs": [
    {
     "data": {
      "text/plain": [
       "array([[0., 0., 0., ..., 0., 0., 0.],\n",
       "       [0., 0., 0., ..., 0., 0., 0.],\n",
       "       [0., 0., 0., ..., 0., 0., 0.],\n",
       "       ...,\n",
       "       [0., 0., 0., ..., 0., 0., 0.],\n",
       "       [0., 0., 0., ..., 0., 0., 0.],\n",
       "       [0., 0., 0., ..., 0., 0., 0.]])"
      ]
     },
     "execution_count": 38,
     "metadata": {},
     "output_type": "execute_result"
    }
   ],
   "source": [
    "x_train_ingreso"
   ]
  },
  {
   "cell_type": "code",
   "execution_count": 39,
   "metadata": {},
   "outputs": [
    {
     "data": {
      "text/plain": [
       "array([[0, 0, 0, ..., 0, 0, 1],\n",
       "       [1, 0, 0, ..., 0, 0, 0],\n",
       "       [1, 0, 0, ..., 0, 0, 0],\n",
       "       ...,\n",
       "       [0, 0, 0, ..., 0, 0, 0],\n",
       "       [1, 0, 0, ..., 0, 0, 0],\n",
       "       [0, 0, 0, ..., 0, 0, 0]])"
      ]
     },
     "execution_count": 39,
     "metadata": {},
     "output_type": "execute_result"
    }
   ],
   "source": [
    "y_train_ingreso"
   ]
  },
  {
   "cell_type": "code",
   "execution_count": 43,
   "metadata": {},
   "outputs": [
    {
     "name": "stdout",
     "output_type": "stream",
     "text": [
      "[-0.33611428 -0.10646436 -0.19824408 ...  0.06778271  0.34318333\n",
      " -0.20871149]\n",
      "(397510,)\n"
     ]
    }
   ],
   "source": [
    "print(flat_thetas[0])\n",
    "print(flat_thetas[0].shape)"
   ]
  },
  {
   "cell_type": "code",
   "execution_count": 77,
   "metadata": {},
   "outputs": [
    {
     "name": "stdout",
     "output_type": "stream",
     "text": [
      "[(500, 785), (10, 501)]\n",
      "[-0.33611428 -0.10646436 -0.19824408 ...  0.06778271  0.34318333\n",
      " -0.20871149]\n",
      "4.227675390708339\n",
      "[(500, 785), (10, 501)]\n",
      "[-0.33611428 -0.10646436 -0.19824408 ...  0.06778271  0.34318333\n",
      " -0.20871149]\n",
      "a (10, 60000)\n",
      "Y (10, 60000)\n",
      "1st delta: (10, 60000)\n",
      "Thetas (500, 10)\n",
      "a: (500, 60000)\n",
      "i: 0\n",
      "temp_shape: (784, 60000)\n",
      "AAAA: (784, 60000)\n",
      "Deltas:  (500, 60000)\n",
      "delta[i] (500, 785)\n",
      "multires  (500, 785)\n",
      "m 60000\n",
      "i: 1\n",
      "temp_shape: (500, 60000)\n",
      "AAAA: (500, 60000)\n",
      "Deltas:  (10, 60000)\n",
      "delta[i] (10, 501)\n",
      "multires  (10, 501)\n",
      "m 60000\n",
      "[(500, 785), (10, 501)]\n",
      "[-0.33441598 -0.10646436 -0.19824408 ...  0.07478942  0.35019004\n",
      " -0.20170478]\n"
     ]
    },
    {
     "ename": "KeyboardInterrupt",
     "evalue": "",
     "output_type": "error",
     "traceback": [
      "\u001b[1;31m---------------------------------------------------------------------------\u001b[0m",
      "\u001b[1;31mKeyboardInterrupt\u001b[0m                         Traceback (most recent call last)",
      "\u001b[1;32m<ipython-input-77-7c2cb6c6441b>\u001b[0m in \u001b[0;36m<module>\u001b[1;34m\u001b[0m\n\u001b[0;32m      9\u001b[0m     options={\n\u001b[0;32m     10\u001b[0m         \u001b[1;34m'disp'\u001b[0m\u001b[1;33m:\u001b[0m\u001b[1;32mTrue\u001b[0m\u001b[1;33m,\u001b[0m\u001b[1;33m\u001b[0m\u001b[1;33m\u001b[0m\u001b[0m\n\u001b[1;32m---> 11\u001b[1;33m         \u001b[1;34m'maxiter'\u001b[0m\u001b[1;33m:\u001b[0m\u001b[1;36m500\u001b[0m\u001b[1;33m\u001b[0m\u001b[1;33m\u001b[0m\u001b[0m\n\u001b[0m\u001b[0;32m     12\u001b[0m     }\n\u001b[0;32m     13\u001b[0m )\n",
      "\u001b[1;32me:\\githubs\\elements-of-machine-learning\\venv_eml\\lib\\site-packages\\scipy\\optimize\\_minimize.py\u001b[0m in \u001b[0;36mminimize\u001b[1;34m(fun, x0, args, method, jac, hess, hessp, bounds, constraints, tol, callback, options)\u001b[0m\n\u001b[0;32m    608\u001b[0m     \u001b[1;32melif\u001b[0m \u001b[0mmeth\u001b[0m \u001b[1;33m==\u001b[0m \u001b[1;34m'l-bfgs-b'\u001b[0m\u001b[1;33m:\u001b[0m\u001b[1;33m\u001b[0m\u001b[1;33m\u001b[0m\u001b[0m\n\u001b[0;32m    609\u001b[0m         return _minimize_lbfgsb(fun, x0, args, jac, bounds,\n\u001b[1;32m--> 610\u001b[1;33m                                 callback=callback, **options)\n\u001b[0m\u001b[0;32m    611\u001b[0m     \u001b[1;32melif\u001b[0m \u001b[0mmeth\u001b[0m \u001b[1;33m==\u001b[0m \u001b[1;34m'tnc'\u001b[0m\u001b[1;33m:\u001b[0m\u001b[1;33m\u001b[0m\u001b[1;33m\u001b[0m\u001b[0m\n\u001b[0;32m    612\u001b[0m         return _minimize_tnc(fun, x0, args, jac, bounds, callback=callback,\n",
      "\u001b[1;32me:\\githubs\\elements-of-machine-learning\\venv_eml\\lib\\site-packages\\scipy\\optimize\\lbfgsb.py\u001b[0m in \u001b[0;36m_minimize_lbfgsb\u001b[1;34m(fun, x0, args, jac, bounds, disp, maxcor, ftol, gtol, eps, maxfun, maxiter, iprint, callback, maxls, **unknown_options)\u001b[0m\n\u001b[0;32m    343\u001b[0m             \u001b[1;31m# until the completion of the current minimization iteration.\u001b[0m\u001b[1;33m\u001b[0m\u001b[1;33m\u001b[0m\u001b[1;33m\u001b[0m\u001b[0m\n\u001b[0;32m    344\u001b[0m             \u001b[1;31m# Overwrite f and g:\u001b[0m\u001b[1;33m\u001b[0m\u001b[1;33m\u001b[0m\u001b[1;33m\u001b[0m\u001b[0m\n\u001b[1;32m--> 345\u001b[1;33m             \u001b[0mf\u001b[0m\u001b[1;33m,\u001b[0m \u001b[0mg\u001b[0m \u001b[1;33m=\u001b[0m \u001b[0mfunc_and_grad\u001b[0m\u001b[1;33m(\u001b[0m\u001b[0mx\u001b[0m\u001b[1;33m)\u001b[0m\u001b[1;33m\u001b[0m\u001b[1;33m\u001b[0m\u001b[0m\n\u001b[0m\u001b[0;32m    346\u001b[0m         \u001b[1;32melif\u001b[0m \u001b[0mtask_str\u001b[0m\u001b[1;33m.\u001b[0m\u001b[0mstartswith\u001b[0m\u001b[1;33m(\u001b[0m\u001b[1;34mb'NEW_X'\u001b[0m\u001b[1;33m)\u001b[0m\u001b[1;33m:\u001b[0m\u001b[1;33m\u001b[0m\u001b[1;33m\u001b[0m\u001b[0m\n\u001b[0;32m    347\u001b[0m             \u001b[1;31m# new iteration\u001b[0m\u001b[1;33m\u001b[0m\u001b[1;33m\u001b[0m\u001b[1;33m\u001b[0m\u001b[0m\n",
      "\u001b[1;32me:\\githubs\\elements-of-machine-learning\\venv_eml\\lib\\site-packages\\scipy\\optimize\\lbfgsb.py\u001b[0m in \u001b[0;36mfunc_and_grad\u001b[1;34m(x)\u001b[0m\n\u001b[0;32m    293\u001b[0m     \u001b[1;32melse\u001b[0m\u001b[1;33m:\u001b[0m\u001b[1;33m\u001b[0m\u001b[1;33m\u001b[0m\u001b[0m\n\u001b[0;32m    294\u001b[0m         \u001b[1;32mdef\u001b[0m \u001b[0mfunc_and_grad\u001b[0m\u001b[1;33m(\u001b[0m\u001b[0mx\u001b[0m\u001b[1;33m)\u001b[0m\u001b[1;33m:\u001b[0m\u001b[1;33m\u001b[0m\u001b[1;33m\u001b[0m\u001b[0m\n\u001b[1;32m--> 295\u001b[1;33m             \u001b[0mf\u001b[0m \u001b[1;33m=\u001b[0m \u001b[0mfun\u001b[0m\u001b[1;33m(\u001b[0m\u001b[0mx\u001b[0m\u001b[1;33m,\u001b[0m \u001b[1;33m*\u001b[0m\u001b[0margs\u001b[0m\u001b[1;33m)\u001b[0m\u001b[1;33m\u001b[0m\u001b[1;33m\u001b[0m\u001b[0m\n\u001b[0m\u001b[0;32m    296\u001b[0m             \u001b[0mg\u001b[0m \u001b[1;33m=\u001b[0m \u001b[0mjac\u001b[0m\u001b[1;33m(\u001b[0m\u001b[0mx\u001b[0m\u001b[1;33m,\u001b[0m \u001b[1;33m*\u001b[0m\u001b[0margs\u001b[0m\u001b[1;33m)\u001b[0m\u001b[1;33m\u001b[0m\u001b[1;33m\u001b[0m\u001b[0m\n\u001b[0;32m    297\u001b[0m             \u001b[1;32mreturn\u001b[0m \u001b[0mf\u001b[0m\u001b[1;33m,\u001b[0m \u001b[0mg\u001b[0m\u001b[1;33m\u001b[0m\u001b[1;33m\u001b[0m\u001b[0m\n",
      "\u001b[1;32me:\\githubs\\elements-of-machine-learning\\venv_eml\\lib\\site-packages\\scipy\\optimize\\optimize.py\u001b[0m in \u001b[0;36mfunction_wrapper\u001b[1;34m(*wrapper_args)\u001b[0m\n\u001b[0;32m    325\u001b[0m     \u001b[1;32mdef\u001b[0m \u001b[0mfunction_wrapper\u001b[0m\u001b[1;33m(\u001b[0m\u001b[1;33m*\u001b[0m\u001b[0mwrapper_args\u001b[0m\u001b[1;33m)\u001b[0m\u001b[1;33m:\u001b[0m\u001b[1;33m\u001b[0m\u001b[1;33m\u001b[0m\u001b[0m\n\u001b[0;32m    326\u001b[0m         \u001b[0mncalls\u001b[0m\u001b[1;33m[\u001b[0m\u001b[1;36m0\u001b[0m\u001b[1;33m]\u001b[0m \u001b[1;33m+=\u001b[0m \u001b[1;36m1\u001b[0m\u001b[1;33m\u001b[0m\u001b[1;33m\u001b[0m\u001b[0m\n\u001b[1;32m--> 327\u001b[1;33m         \u001b[1;32mreturn\u001b[0m \u001b[0mfunction\u001b[0m\u001b[1;33m(\u001b[0m\u001b[1;33m*\u001b[0m\u001b[1;33m(\u001b[0m\u001b[0mwrapper_args\u001b[0m \u001b[1;33m+\u001b[0m \u001b[0margs\u001b[0m\u001b[1;33m)\u001b[0m\u001b[1;33m)\u001b[0m\u001b[1;33m\u001b[0m\u001b[1;33m\u001b[0m\u001b[0m\n\u001b[0m\u001b[0;32m    328\u001b[0m \u001b[1;33m\u001b[0m\u001b[0m\n\u001b[0;32m    329\u001b[0m     \u001b[1;32mreturn\u001b[0m \u001b[0mncalls\u001b[0m\u001b[1;33m,\u001b[0m \u001b[0mfunction_wrapper\u001b[0m\u001b[1;33m\u001b[0m\u001b[1;33m\u001b[0m\u001b[0m\n",
      "\u001b[1;32m<ipython-input-75-9c8a75766d91>\u001b[0m in \u001b[0;36mcost\u001b[1;34m(thetas, shapes, X, Y)\u001b[0m\n\u001b[0;32m     90\u001b[0m \u001b[1;32mdef\u001b[0m \u001b[0mcost\u001b[0m\u001b[1;33m(\u001b[0m\u001b[0mthetas\u001b[0m\u001b[1;33m,\u001b[0m\u001b[0mshapes\u001b[0m\u001b[1;33m,\u001b[0m\u001b[0mX\u001b[0m\u001b[1;33m,\u001b[0m\u001b[0mY\u001b[0m\u001b[1;33m)\u001b[0m\u001b[1;33m:\u001b[0m\u001b[1;33m\u001b[0m\u001b[1;33m\u001b[0m\u001b[0m\n\u001b[0;32m     91\u001b[0m     \u001b[0mthetas\u001b[0m \u001b[1;33m=\u001b[0m \u001b[0munflatten_zetas\u001b[0m\u001b[1;33m(\u001b[0m\u001b[0mthetas\u001b[0m\u001b[1;33m,\u001b[0m\u001b[0mshapes\u001b[0m\u001b[1;33m)\u001b[0m\u001b[1;33m\u001b[0m\u001b[1;33m\u001b[0m\u001b[0m\n\u001b[1;32m---> 92\u001b[1;33m     \u001b[0mh\u001b[0m \u001b[1;33m=\u001b[0m \u001b[0mforward_prop\u001b[0m\u001b[1;33m(\u001b[0m\u001b[0mX\u001b[0m\u001b[1;33m,\u001b[0m\u001b[0mthetas\u001b[0m\u001b[1;33m)\u001b[0m\u001b[1;33m[\u001b[0m\u001b[1;33m-\u001b[0m\u001b[1;36m1\u001b[0m\u001b[1;33m]\u001b[0m\u001b[1;33m\u001b[0m\u001b[1;33m\u001b[0m\u001b[0m\n\u001b[0m\u001b[0;32m     93\u001b[0m     \u001b[0mcalculate\u001b[0m \u001b[1;33m=\u001b[0m \u001b[1;33m(\u001b[0m\u001b[0mY\u001b[0m \u001b[1;33m*\u001b[0m \u001b[0mnp\u001b[0m\u001b[1;33m.\u001b[0m\u001b[0mlog\u001b[0m\u001b[1;33m(\u001b[0m\u001b[0mh\u001b[0m\u001b[1;33m)\u001b[0m\u001b[1;33m.\u001b[0m\u001b[0mT\u001b[0m\u001b[1;33m)\u001b[0m \u001b[1;33m+\u001b[0m \u001b[1;33m(\u001b[0m\u001b[1;33m(\u001b[0m\u001b[1;36m1\u001b[0m \u001b[1;33m-\u001b[0m \u001b[0mY\u001b[0m\u001b[1;33m)\u001b[0m \u001b[1;33m*\u001b[0m \u001b[0mnp\u001b[0m\u001b[1;33m.\u001b[0m\u001b[0mlog\u001b[0m\u001b[1;33m(\u001b[0m\u001b[1;36m1\u001b[0m \u001b[1;33m-\u001b[0m \u001b[0mh\u001b[0m\u001b[1;33m)\u001b[0m\u001b[1;33m.\u001b[0m\u001b[0mT\u001b[0m\u001b[1;33m)\u001b[0m\u001b[1;33m\u001b[0m\u001b[1;33m\u001b[0m\u001b[0m\n\u001b[0;32m     94\u001b[0m     \u001b[0mprint\u001b[0m\u001b[1;33m(\u001b[0m\u001b[0mnp\u001b[0m\u001b[1;33m.\u001b[0m\u001b[0msum\u001b[0m\u001b[1;33m(\u001b[0m\u001b[0mcalculate\u001b[0m\u001b[1;33m)\u001b[0m \u001b[1;33m/\u001b[0m \u001b[1;33m(\u001b[0m\u001b[1;33m-\u001b[0m \u001b[0mX\u001b[0m\u001b[1;33m.\u001b[0m\u001b[0mshape\u001b[0m\u001b[1;33m[\u001b[0m\u001b[1;36m0\u001b[0m\u001b[1;33m]\u001b[0m\u001b[1;33m)\u001b[0m\u001b[1;33m)\u001b[0m\u001b[1;33m\u001b[0m\u001b[1;33m\u001b[0m\u001b[0m\n",
      "\u001b[1;32m<ipython-input-75-9c8a75766d91>\u001b[0m in \u001b[0;36mforward_prop\u001b[1;34m(X, thetas)\u001b[0m\n\u001b[0;32m     25\u001b[0m             np.vstack(\n\u001b[0;32m     26\u001b[0m                 [np.expand_dims(np.ones(trace[i].shape[1]),0),\n\u001b[1;32m---> 27\u001b[1;33m                 trace[i]]\n\u001b[0m\u001b[0;32m     28\u001b[0m                 )\n\u001b[0;32m     29\u001b[0m         )\n",
      "\u001b[1;31mKeyboardInterrupt\u001b[0m: "
     ]
    }
   ],
   "source": [
    "start = time.time()\n",
    "\n",
    "res = op.minimize(\n",
    "    fun=cost,\n",
    "    x0=flat_thetas[0],\n",
    "    args=(flat_thetas[1],x_train_ingreso,y_train_ingreso),\n",
    "    method='L-BFGS-B',\n",
    "    jac=backward_prop,\n",
    "    options={\n",
    "        'disp':True,\n",
    "        'maxiter':500\n",
    "    }\n",
    ")\n",
    "\n",
    "end = time.time()"
   ]
  },
  {
   "cell_type": "code",
   "execution_count": null,
   "metadata": {},
   "outputs": [],
   "source": []
  }
 ],
 "metadata": {
  "kernelspec": {
   "display_name": "Python 3",
   "language": "python",
   "name": "python3"
  },
  "language_info": {
   "codemirror_mode": {
    "name": "ipython",
    "version": 3
   },
   "file_extension": ".py",
   "mimetype": "text/x-python",
   "name": "python",
   "nbconvert_exporter": "python",
   "pygments_lexer": "ipython3",
   "version": "3.7.5"
  }
 },
 "nbformat": 4,
 "nbformat_minor": 4
}
