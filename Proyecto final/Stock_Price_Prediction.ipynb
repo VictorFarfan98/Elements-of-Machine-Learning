{
  "nbformat": 4,
  "nbformat_minor": 0,
  "metadata": {
    "colab": {
      "name": "Stock Price Prediction.ipynb",
      "provenance": [],
      "collapsed_sections": []
    },
    "kernelspec": {
      "name": "python3",
      "display_name": "Python 3"
    },
    "accelerator": "GPU",
    "widgets": {
      "application/vnd.jupyter.widget-state+json": {
        "f17e007afe0f4bd084df301909ae6eeb": {
          "model_module": "@jupyter-widgets/controls",
          "model_name": "HBoxModel",
          "state": {
            "_view_name": "HBoxView",
            "_dom_classes": [],
            "_model_name": "HBoxModel",
            "_view_module": "@jupyter-widgets/controls",
            "_model_module_version": "1.5.0",
            "_view_count": null,
            "_view_module_version": "1.5.0",
            "box_style": "",
            "layout": "IPY_MODEL_2c1d82e117d7467abbeaafe5f8ba3c5e",
            "_model_module": "@jupyter-widgets/controls",
            "children": [
              "IPY_MODEL_1fe16b12fc7f4901b3a9cf6bd0158dc9",
              "IPY_MODEL_dcfb74878dfb498f942754e426d72eda"
            ]
          }
        },
        "2c1d82e117d7467abbeaafe5f8ba3c5e": {
          "model_module": "@jupyter-widgets/base",
          "model_name": "LayoutModel",
          "state": {
            "_view_name": "LayoutView",
            "grid_template_rows": null,
            "right": null,
            "justify_content": null,
            "_view_module": "@jupyter-widgets/base",
            "overflow": null,
            "_model_module_version": "1.2.0",
            "_view_count": null,
            "flex_flow": null,
            "width": null,
            "min_width": null,
            "border": null,
            "align_items": null,
            "bottom": null,
            "_model_module": "@jupyter-widgets/base",
            "top": null,
            "grid_column": null,
            "overflow_y": null,
            "overflow_x": null,
            "grid_auto_flow": null,
            "grid_area": null,
            "grid_template_columns": null,
            "flex": null,
            "_model_name": "LayoutModel",
            "justify_items": null,
            "grid_row": null,
            "max_height": null,
            "align_content": null,
            "visibility": null,
            "align_self": null,
            "height": null,
            "min_height": null,
            "padding": null,
            "grid_auto_rows": null,
            "grid_gap": null,
            "max_width": null,
            "order": null,
            "_view_module_version": "1.2.0",
            "grid_template_areas": null,
            "object_position": null,
            "object_fit": null,
            "grid_auto_columns": null,
            "margin": null,
            "display": null,
            "left": null
          }
        },
        "1fe16b12fc7f4901b3a9cf6bd0158dc9": {
          "model_module": "@jupyter-widgets/controls",
          "model_name": "FloatProgressModel",
          "state": {
            "_view_name": "ProgressView",
            "style": "IPY_MODEL_e218a4ea5e5e4cb1b78967c7c8be6a45",
            "_dom_classes": [],
            "description": "100%",
            "_model_name": "FloatProgressModel",
            "bar_style": "success",
            "max": 1483,
            "_view_module": "@jupyter-widgets/controls",
            "_model_module_version": "1.5.0",
            "value": 1483,
            "_view_count": null,
            "_view_module_version": "1.5.0",
            "orientation": "horizontal",
            "min": 0,
            "description_tooltip": null,
            "_model_module": "@jupyter-widgets/controls",
            "layout": "IPY_MODEL_89e109039da2461d82ca35ac58460c6c"
          }
        },
        "dcfb74878dfb498f942754e426d72eda": {
          "model_module": "@jupyter-widgets/controls",
          "model_name": "HTMLModel",
          "state": {
            "_view_name": "HTMLView",
            "style": "IPY_MODEL_86eda04ed918437ea8f1a7a961c9fd48",
            "_dom_classes": [],
            "description": "",
            "_model_name": "HTMLModel",
            "placeholder": "​",
            "_view_module": "@jupyter-widgets/controls",
            "_model_module_version": "1.5.0",
            "value": " 1483/1483 [00:06&lt;00:00, 229.37it/s]",
            "_view_count": null,
            "_view_module_version": "1.5.0",
            "description_tooltip": null,
            "_model_module": "@jupyter-widgets/controls",
            "layout": "IPY_MODEL_a37fc34ae01c4c67ad154f83830531d5"
          }
        },
        "e218a4ea5e5e4cb1b78967c7c8be6a45": {
          "model_module": "@jupyter-widgets/controls",
          "model_name": "ProgressStyleModel",
          "state": {
            "_view_name": "StyleView",
            "_model_name": "ProgressStyleModel",
            "description_width": "initial",
            "_view_module": "@jupyter-widgets/base",
            "_model_module_version": "1.5.0",
            "_view_count": null,
            "_view_module_version": "1.2.0",
            "bar_color": null,
            "_model_module": "@jupyter-widgets/controls"
          }
        },
        "89e109039da2461d82ca35ac58460c6c": {
          "model_module": "@jupyter-widgets/base",
          "model_name": "LayoutModel",
          "state": {
            "_view_name": "LayoutView",
            "grid_template_rows": null,
            "right": null,
            "justify_content": null,
            "_view_module": "@jupyter-widgets/base",
            "overflow": null,
            "_model_module_version": "1.2.0",
            "_view_count": null,
            "flex_flow": null,
            "width": null,
            "min_width": null,
            "border": null,
            "align_items": null,
            "bottom": null,
            "_model_module": "@jupyter-widgets/base",
            "top": null,
            "grid_column": null,
            "overflow_y": null,
            "overflow_x": null,
            "grid_auto_flow": null,
            "grid_area": null,
            "grid_template_columns": null,
            "flex": null,
            "_model_name": "LayoutModel",
            "justify_items": null,
            "grid_row": null,
            "max_height": null,
            "align_content": null,
            "visibility": null,
            "align_self": null,
            "height": null,
            "min_height": null,
            "padding": null,
            "grid_auto_rows": null,
            "grid_gap": null,
            "max_width": null,
            "order": null,
            "_view_module_version": "1.2.0",
            "grid_template_areas": null,
            "object_position": null,
            "object_fit": null,
            "grid_auto_columns": null,
            "margin": null,
            "display": null,
            "left": null
          }
        },
        "86eda04ed918437ea8f1a7a961c9fd48": {
          "model_module": "@jupyter-widgets/controls",
          "model_name": "DescriptionStyleModel",
          "state": {
            "_view_name": "StyleView",
            "_model_name": "DescriptionStyleModel",
            "description_width": "",
            "_view_module": "@jupyter-widgets/base",
            "_model_module_version": "1.5.0",
            "_view_count": null,
            "_view_module_version": "1.2.0",
            "_model_module": "@jupyter-widgets/controls"
          }
        },
        "a37fc34ae01c4c67ad154f83830531d5": {
          "model_module": "@jupyter-widgets/base",
          "model_name": "LayoutModel",
          "state": {
            "_view_name": "LayoutView",
            "grid_template_rows": null,
            "right": null,
            "justify_content": null,
            "_view_module": "@jupyter-widgets/base",
            "overflow": null,
            "_model_module_version": "1.2.0",
            "_view_count": null,
            "flex_flow": null,
            "width": null,
            "min_width": null,
            "border": null,
            "align_items": null,
            "bottom": null,
            "_model_module": "@jupyter-widgets/base",
            "top": null,
            "grid_column": null,
            "overflow_y": null,
            "overflow_x": null,
            "grid_auto_flow": null,
            "grid_area": null,
            "grid_template_columns": null,
            "flex": null,
            "_model_name": "LayoutModel",
            "justify_items": null,
            "grid_row": null,
            "max_height": null,
            "align_content": null,
            "visibility": null,
            "align_self": null,
            "height": null,
            "min_height": null,
            "padding": null,
            "grid_auto_rows": null,
            "grid_gap": null,
            "max_width": null,
            "order": null,
            "_view_module_version": "1.2.0",
            "grid_template_areas": null,
            "object_position": null,
            "object_fit": null,
            "grid_auto_columns": null,
            "margin": null,
            "display": null,
            "left": null
          }
        },
        "ea5c4e5147f845d797c6fb01571f23f3": {
          "model_module": "@jupyter-widgets/controls",
          "model_name": "HBoxModel",
          "state": {
            "_view_name": "HBoxView",
            "_dom_classes": [],
            "_model_name": "HBoxModel",
            "_view_module": "@jupyter-widgets/controls",
            "_model_module_version": "1.5.0",
            "_view_count": null,
            "_view_module_version": "1.5.0",
            "box_style": "",
            "layout": "IPY_MODEL_fbc547e19b474d91bf65769f712d6d74",
            "_model_module": "@jupyter-widgets/controls",
            "children": [
              "IPY_MODEL_17d3e89e2ea94e879802ee57d87c4d7e",
              "IPY_MODEL_6d66d6b73e09470098d84d0070d15f7b"
            ]
          }
        },
        "fbc547e19b474d91bf65769f712d6d74": {
          "model_module": "@jupyter-widgets/base",
          "model_name": "LayoutModel",
          "state": {
            "_view_name": "LayoutView",
            "grid_template_rows": null,
            "right": null,
            "justify_content": null,
            "_view_module": "@jupyter-widgets/base",
            "overflow": null,
            "_model_module_version": "1.2.0",
            "_view_count": null,
            "flex_flow": null,
            "width": null,
            "min_width": null,
            "border": null,
            "align_items": null,
            "bottom": null,
            "_model_module": "@jupyter-widgets/base",
            "top": null,
            "grid_column": null,
            "overflow_y": null,
            "overflow_x": null,
            "grid_auto_flow": null,
            "grid_area": null,
            "grid_template_columns": null,
            "flex": null,
            "_model_name": "LayoutModel",
            "justify_items": null,
            "grid_row": null,
            "max_height": null,
            "align_content": null,
            "visibility": null,
            "align_self": null,
            "height": null,
            "min_height": null,
            "padding": null,
            "grid_auto_rows": null,
            "grid_gap": null,
            "max_width": null,
            "order": null,
            "_view_module_version": "1.2.0",
            "grid_template_areas": null,
            "object_position": null,
            "object_fit": null,
            "grid_auto_columns": null,
            "margin": null,
            "display": null,
            "left": null
          }
        },
        "17d3e89e2ea94e879802ee57d87c4d7e": {
          "model_module": "@jupyter-widgets/controls",
          "model_name": "FloatProgressModel",
          "state": {
            "_view_name": "ProgressView",
            "style": "IPY_MODEL_4d7e16ac5687403b9dd7d7f3ef046504",
            "_dom_classes": [],
            "description": "100%",
            "_model_name": "FloatProgressModel",
            "bar_style": "success",
            "max": 369,
            "_view_module": "@jupyter-widgets/controls",
            "_model_module_version": "1.5.0",
            "value": 369,
            "_view_count": null,
            "_view_module_version": "1.5.0",
            "orientation": "horizontal",
            "min": 0,
            "description_tooltip": null,
            "_model_module": "@jupyter-widgets/controls",
            "layout": "IPY_MODEL_6f031237229c48fc97c0bc2f65e34062"
          }
        },
        "6d66d6b73e09470098d84d0070d15f7b": {
          "model_module": "@jupyter-widgets/controls",
          "model_name": "HTMLModel",
          "state": {
            "_view_name": "HTMLView",
            "style": "IPY_MODEL_410d0dc398b94b968b211eb310d0b389",
            "_dom_classes": [],
            "description": "",
            "_model_name": "HTMLModel",
            "placeholder": "​",
            "_view_module": "@jupyter-widgets/controls",
            "_model_module_version": "1.5.0",
            "value": " 369/369 [00:05&lt;00:00, 71.97it/s]",
            "_view_count": null,
            "_view_module_version": "1.5.0",
            "description_tooltip": null,
            "_model_module": "@jupyter-widgets/controls",
            "layout": "IPY_MODEL_b43155c71b354692bb029cd7a90e7ce1"
          }
        },
        "4d7e16ac5687403b9dd7d7f3ef046504": {
          "model_module": "@jupyter-widgets/controls",
          "model_name": "ProgressStyleModel",
          "state": {
            "_view_name": "StyleView",
            "_model_name": "ProgressStyleModel",
            "description_width": "initial",
            "_view_module": "@jupyter-widgets/base",
            "_model_module_version": "1.5.0",
            "_view_count": null,
            "_view_module_version": "1.2.0",
            "bar_color": null,
            "_model_module": "@jupyter-widgets/controls"
          }
        },
        "6f031237229c48fc97c0bc2f65e34062": {
          "model_module": "@jupyter-widgets/base",
          "model_name": "LayoutModel",
          "state": {
            "_view_name": "LayoutView",
            "grid_template_rows": null,
            "right": null,
            "justify_content": null,
            "_view_module": "@jupyter-widgets/base",
            "overflow": null,
            "_model_module_version": "1.2.0",
            "_view_count": null,
            "flex_flow": null,
            "width": null,
            "min_width": null,
            "border": null,
            "align_items": null,
            "bottom": null,
            "_model_module": "@jupyter-widgets/base",
            "top": null,
            "grid_column": null,
            "overflow_y": null,
            "overflow_x": null,
            "grid_auto_flow": null,
            "grid_area": null,
            "grid_template_columns": null,
            "flex": null,
            "_model_name": "LayoutModel",
            "justify_items": null,
            "grid_row": null,
            "max_height": null,
            "align_content": null,
            "visibility": null,
            "align_self": null,
            "height": null,
            "min_height": null,
            "padding": null,
            "grid_auto_rows": null,
            "grid_gap": null,
            "max_width": null,
            "order": null,
            "_view_module_version": "1.2.0",
            "grid_template_areas": null,
            "object_position": null,
            "object_fit": null,
            "grid_auto_columns": null,
            "margin": null,
            "display": null,
            "left": null
          }
        },
        "410d0dc398b94b968b211eb310d0b389": {
          "model_module": "@jupyter-widgets/controls",
          "model_name": "DescriptionStyleModel",
          "state": {
            "_view_name": "StyleView",
            "_model_name": "DescriptionStyleModel",
            "description_width": "",
            "_view_module": "@jupyter-widgets/base",
            "_model_module_version": "1.5.0",
            "_view_count": null,
            "_view_module_version": "1.2.0",
            "_model_module": "@jupyter-widgets/controls"
          }
        },
        "b43155c71b354692bb029cd7a90e7ce1": {
          "model_module": "@jupyter-widgets/base",
          "model_name": "LayoutModel",
          "state": {
            "_view_name": "LayoutView",
            "grid_template_rows": null,
            "right": null,
            "justify_content": null,
            "_view_module": "@jupyter-widgets/base",
            "overflow": null,
            "_model_module_version": "1.2.0",
            "_view_count": null,
            "flex_flow": null,
            "width": null,
            "min_width": null,
            "border": null,
            "align_items": null,
            "bottom": null,
            "_model_module": "@jupyter-widgets/base",
            "top": null,
            "grid_column": null,
            "overflow_y": null,
            "overflow_x": null,
            "grid_auto_flow": null,
            "grid_area": null,
            "grid_template_columns": null,
            "flex": null,
            "_model_name": "LayoutModel",
            "justify_items": null,
            "grid_row": null,
            "max_height": null,
            "align_content": null,
            "visibility": null,
            "align_self": null,
            "height": null,
            "min_height": null,
            "padding": null,
            "grid_auto_rows": null,
            "grid_gap": null,
            "max_width": null,
            "order": null,
            "_view_module_version": "1.2.0",
            "grid_template_areas": null,
            "object_position": null,
            "object_fit": null,
            "grid_auto_columns": null,
            "margin": null,
            "display": null,
            "left": null
          }
        },
        "b61175e511db4aaf96bea32475c4e0ed": {
          "model_module": "@jupyter-widgets/controls",
          "model_name": "HBoxModel",
          "state": {
            "_view_name": "HBoxView",
            "_dom_classes": [],
            "_model_name": "HBoxModel",
            "_view_module": "@jupyter-widgets/controls",
            "_model_module_version": "1.5.0",
            "_view_count": null,
            "_view_module_version": "1.5.0",
            "box_style": "",
            "layout": "IPY_MODEL_10bf28d354b14753b1fb14c0e800ff60",
            "_model_module": "@jupyter-widgets/controls",
            "children": [
              "IPY_MODEL_cc804f05bc8048c58551f3bd86d702be",
              "IPY_MODEL_fc9ff8892c18436496a3160b8ae0599b"
            ]
          }
        },
        "10bf28d354b14753b1fb14c0e800ff60": {
          "model_module": "@jupyter-widgets/base",
          "model_name": "LayoutModel",
          "state": {
            "_view_name": "LayoutView",
            "grid_template_rows": null,
            "right": null,
            "justify_content": null,
            "_view_module": "@jupyter-widgets/base",
            "overflow": null,
            "_model_module_version": "1.2.0",
            "_view_count": null,
            "flex_flow": null,
            "width": null,
            "min_width": null,
            "border": null,
            "align_items": null,
            "bottom": null,
            "_model_module": "@jupyter-widgets/base",
            "top": null,
            "grid_column": null,
            "overflow_y": null,
            "overflow_x": null,
            "grid_auto_flow": null,
            "grid_area": null,
            "grid_template_columns": null,
            "flex": null,
            "_model_name": "LayoutModel",
            "justify_items": null,
            "grid_row": null,
            "max_height": null,
            "align_content": null,
            "visibility": null,
            "align_self": null,
            "height": null,
            "min_height": null,
            "padding": null,
            "grid_auto_rows": null,
            "grid_gap": null,
            "max_width": null,
            "order": null,
            "_view_module_version": "1.2.0",
            "grid_template_areas": null,
            "object_position": null,
            "object_fit": null,
            "grid_auto_columns": null,
            "margin": null,
            "display": null,
            "left": null
          }
        },
        "cc804f05bc8048c58551f3bd86d702be": {
          "model_module": "@jupyter-widgets/controls",
          "model_name": "FloatProgressModel",
          "state": {
            "_view_name": "ProgressView",
            "style": "IPY_MODEL_743540800c5346f8b64ea7c5c997f8e2",
            "_dom_classes": [],
            "description": "100%",
            "_model_name": "FloatProgressModel",
            "bar_style": "success",
            "max": 4119,
            "_view_module": "@jupyter-widgets/controls",
            "_model_module_version": "1.5.0",
            "value": 4119,
            "_view_count": null,
            "_view_module_version": "1.5.0",
            "orientation": "horizontal",
            "min": 0,
            "description_tooltip": null,
            "_model_module": "@jupyter-widgets/controls",
            "layout": "IPY_MODEL_7832e1cae7974559973158c3d3e509fb"
          }
        },
        "fc9ff8892c18436496a3160b8ae0599b": {
          "model_module": "@jupyter-widgets/controls",
          "model_name": "HTMLModel",
          "state": {
            "_view_name": "HTMLView",
            "style": "IPY_MODEL_f22afbf72a9644119b8c813e3cdc014c",
            "_dom_classes": [],
            "description": "",
            "_model_name": "HTMLModel",
            "placeholder": "​",
            "_view_module": "@jupyter-widgets/controls",
            "_model_module_version": "1.5.0",
            "value": " 4119/4119 [00:03&lt;00:00, 1187.64it/s]",
            "_view_count": null,
            "_view_module_version": "1.5.0",
            "description_tooltip": null,
            "_model_module": "@jupyter-widgets/controls",
            "layout": "IPY_MODEL_4f0b5f7565e24f779d1b01b6dd92fe94"
          }
        },
        "743540800c5346f8b64ea7c5c997f8e2": {
          "model_module": "@jupyter-widgets/controls",
          "model_name": "ProgressStyleModel",
          "state": {
            "_view_name": "StyleView",
            "_model_name": "ProgressStyleModel",
            "description_width": "initial",
            "_view_module": "@jupyter-widgets/base",
            "_model_module_version": "1.5.0",
            "_view_count": null,
            "_view_module_version": "1.2.0",
            "bar_color": null,
            "_model_module": "@jupyter-widgets/controls"
          }
        },
        "7832e1cae7974559973158c3d3e509fb": {
          "model_module": "@jupyter-widgets/base",
          "model_name": "LayoutModel",
          "state": {
            "_view_name": "LayoutView",
            "grid_template_rows": null,
            "right": null,
            "justify_content": null,
            "_view_module": "@jupyter-widgets/base",
            "overflow": null,
            "_model_module_version": "1.2.0",
            "_view_count": null,
            "flex_flow": null,
            "width": null,
            "min_width": null,
            "border": null,
            "align_items": null,
            "bottom": null,
            "_model_module": "@jupyter-widgets/base",
            "top": null,
            "grid_column": null,
            "overflow_y": null,
            "overflow_x": null,
            "grid_auto_flow": null,
            "grid_area": null,
            "grid_template_columns": null,
            "flex": null,
            "_model_name": "LayoutModel",
            "justify_items": null,
            "grid_row": null,
            "max_height": null,
            "align_content": null,
            "visibility": null,
            "align_self": null,
            "height": null,
            "min_height": null,
            "padding": null,
            "grid_auto_rows": null,
            "grid_gap": null,
            "max_width": null,
            "order": null,
            "_view_module_version": "1.2.0",
            "grid_template_areas": null,
            "object_position": null,
            "object_fit": null,
            "grid_auto_columns": null,
            "margin": null,
            "display": null,
            "left": null
          }
        },
        "f22afbf72a9644119b8c813e3cdc014c": {
          "model_module": "@jupyter-widgets/controls",
          "model_name": "DescriptionStyleModel",
          "state": {
            "_view_name": "StyleView",
            "_model_name": "DescriptionStyleModel",
            "description_width": "",
            "_view_module": "@jupyter-widgets/base",
            "_model_module_version": "1.5.0",
            "_view_count": null,
            "_view_module_version": "1.2.0",
            "_model_module": "@jupyter-widgets/controls"
          }
        },
        "4f0b5f7565e24f779d1b01b6dd92fe94": {
          "model_module": "@jupyter-widgets/base",
          "model_name": "LayoutModel",
          "state": {
            "_view_name": "LayoutView",
            "grid_template_rows": null,
            "right": null,
            "justify_content": null,
            "_view_module": "@jupyter-widgets/base",
            "overflow": null,
            "_model_module_version": "1.2.0",
            "_view_count": null,
            "flex_flow": null,
            "width": null,
            "min_width": null,
            "border": null,
            "align_items": null,
            "bottom": null,
            "_model_module": "@jupyter-widgets/base",
            "top": null,
            "grid_column": null,
            "overflow_y": null,
            "overflow_x": null,
            "grid_auto_flow": null,
            "grid_area": null,
            "grid_template_columns": null,
            "flex": null,
            "_model_name": "LayoutModel",
            "justify_items": null,
            "grid_row": null,
            "max_height": null,
            "align_content": null,
            "visibility": null,
            "align_self": null,
            "height": null,
            "min_height": null,
            "padding": null,
            "grid_auto_rows": null,
            "grid_gap": null,
            "max_width": null,
            "order": null,
            "_view_module_version": "1.2.0",
            "grid_template_areas": null,
            "object_position": null,
            "object_fit": null,
            "grid_auto_columns": null,
            "margin": null,
            "display": null,
            "left": null
          }
        },
        "7358d75e1b1946eabb5983d0091a9ad6": {
          "model_module": "@jupyter-widgets/controls",
          "model_name": "HBoxModel",
          "state": {
            "_view_name": "HBoxView",
            "_dom_classes": [],
            "_model_name": "HBoxModel",
            "_view_module": "@jupyter-widgets/controls",
            "_model_module_version": "1.5.0",
            "_view_count": null,
            "_view_module_version": "1.5.0",
            "box_style": "",
            "layout": "IPY_MODEL_638211ed073a42f49b5658a1f4d93f60",
            "_model_module": "@jupyter-widgets/controls",
            "children": [
              "IPY_MODEL_0ffb4284a94c49adbd8f6ef309925b9c",
              "IPY_MODEL_fe17f90560e8454b9e1ccbaed7c9d692"
            ]
          }
        },
        "638211ed073a42f49b5658a1f4d93f60": {
          "model_module": "@jupyter-widgets/base",
          "model_name": "LayoutModel",
          "state": {
            "_view_name": "LayoutView",
            "grid_template_rows": null,
            "right": null,
            "justify_content": null,
            "_view_module": "@jupyter-widgets/base",
            "overflow": null,
            "_model_module_version": "1.2.0",
            "_view_count": null,
            "flex_flow": null,
            "width": null,
            "min_width": null,
            "border": null,
            "align_items": null,
            "bottom": null,
            "_model_module": "@jupyter-widgets/base",
            "top": null,
            "grid_column": null,
            "overflow_y": null,
            "overflow_x": null,
            "grid_auto_flow": null,
            "grid_area": null,
            "grid_template_columns": null,
            "flex": null,
            "_model_name": "LayoutModel",
            "justify_items": null,
            "grid_row": null,
            "max_height": null,
            "align_content": null,
            "visibility": null,
            "align_self": null,
            "height": null,
            "min_height": null,
            "padding": null,
            "grid_auto_rows": null,
            "grid_gap": null,
            "max_width": null,
            "order": null,
            "_view_module_version": "1.2.0",
            "grid_template_areas": null,
            "object_position": null,
            "object_fit": null,
            "grid_auto_columns": null,
            "margin": null,
            "display": null,
            "left": null
          }
        },
        "0ffb4284a94c49adbd8f6ef309925b9c": {
          "model_module": "@jupyter-widgets/controls",
          "model_name": "FloatProgressModel",
          "state": {
            "_view_name": "ProgressView",
            "style": "IPY_MODEL_e1bc88644be541d0bd5984a23ea8960f",
            "_dom_classes": [],
            "description": "100%",
            "_model_name": "FloatProgressModel",
            "bar_style": "success",
            "max": 1028,
            "_view_module": "@jupyter-widgets/controls",
            "_model_module_version": "1.5.0",
            "value": 1028,
            "_view_count": null,
            "_view_module_version": "1.5.0",
            "orientation": "horizontal",
            "min": 0,
            "description_tooltip": null,
            "_model_module": "@jupyter-widgets/controls",
            "layout": "IPY_MODEL_4d7262a8942c43f1a564cea2cb223ef1"
          }
        },
        "fe17f90560e8454b9e1ccbaed7c9d692": {
          "model_module": "@jupyter-widgets/controls",
          "model_name": "HTMLModel",
          "state": {
            "_view_name": "HTMLView",
            "style": "IPY_MODEL_8d5d15fd43a040c19a8429e8f5f65d0f",
            "_dom_classes": [],
            "description": "",
            "_model_name": "HTMLModel",
            "placeholder": "​",
            "_view_module": "@jupyter-widgets/controls",
            "_model_module_version": "1.5.0",
            "value": " 1028/1028 [00:01&lt;00:00, 618.04it/s]",
            "_view_count": null,
            "_view_module_version": "1.5.0",
            "description_tooltip": null,
            "_model_module": "@jupyter-widgets/controls",
            "layout": "IPY_MODEL_fc59938963fb4b1bb091757f3f3ebba6"
          }
        },
        "e1bc88644be541d0bd5984a23ea8960f": {
          "model_module": "@jupyter-widgets/controls",
          "model_name": "ProgressStyleModel",
          "state": {
            "_view_name": "StyleView",
            "_model_name": "ProgressStyleModel",
            "description_width": "initial",
            "_view_module": "@jupyter-widgets/base",
            "_model_module_version": "1.5.0",
            "_view_count": null,
            "_view_module_version": "1.2.0",
            "bar_color": null,
            "_model_module": "@jupyter-widgets/controls"
          }
        },
        "4d7262a8942c43f1a564cea2cb223ef1": {
          "model_module": "@jupyter-widgets/base",
          "model_name": "LayoutModel",
          "state": {
            "_view_name": "LayoutView",
            "grid_template_rows": null,
            "right": null,
            "justify_content": null,
            "_view_module": "@jupyter-widgets/base",
            "overflow": null,
            "_model_module_version": "1.2.0",
            "_view_count": null,
            "flex_flow": null,
            "width": null,
            "min_width": null,
            "border": null,
            "align_items": null,
            "bottom": null,
            "_model_module": "@jupyter-widgets/base",
            "top": null,
            "grid_column": null,
            "overflow_y": null,
            "overflow_x": null,
            "grid_auto_flow": null,
            "grid_area": null,
            "grid_template_columns": null,
            "flex": null,
            "_model_name": "LayoutModel",
            "justify_items": null,
            "grid_row": null,
            "max_height": null,
            "align_content": null,
            "visibility": null,
            "align_self": null,
            "height": null,
            "min_height": null,
            "padding": null,
            "grid_auto_rows": null,
            "grid_gap": null,
            "max_width": null,
            "order": null,
            "_view_module_version": "1.2.0",
            "grid_template_areas": null,
            "object_position": null,
            "object_fit": null,
            "grid_auto_columns": null,
            "margin": null,
            "display": null,
            "left": null
          }
        },
        "8d5d15fd43a040c19a8429e8f5f65d0f": {
          "model_module": "@jupyter-widgets/controls",
          "model_name": "DescriptionStyleModel",
          "state": {
            "_view_name": "StyleView",
            "_model_name": "DescriptionStyleModel",
            "description_width": "",
            "_view_module": "@jupyter-widgets/base",
            "_model_module_version": "1.5.0",
            "_view_count": null,
            "_view_module_version": "1.2.0",
            "_model_module": "@jupyter-widgets/controls"
          }
        },
        "fc59938963fb4b1bb091757f3f3ebba6": {
          "model_module": "@jupyter-widgets/base",
          "model_name": "LayoutModel",
          "state": {
            "_view_name": "LayoutView",
            "grid_template_rows": null,
            "right": null,
            "justify_content": null,
            "_view_module": "@jupyter-widgets/base",
            "overflow": null,
            "_model_module_version": "1.2.0",
            "_view_count": null,
            "flex_flow": null,
            "width": null,
            "min_width": null,
            "border": null,
            "align_items": null,
            "bottom": null,
            "_model_module": "@jupyter-widgets/base",
            "top": null,
            "grid_column": null,
            "overflow_y": null,
            "overflow_x": null,
            "grid_auto_flow": null,
            "grid_area": null,
            "grid_template_columns": null,
            "flex": null,
            "_model_name": "LayoutModel",
            "justify_items": null,
            "grid_row": null,
            "max_height": null,
            "align_content": null,
            "visibility": null,
            "align_self": null,
            "height": null,
            "min_height": null,
            "padding": null,
            "grid_auto_rows": null,
            "grid_gap": null,
            "max_width": null,
            "order": null,
            "_view_module_version": "1.2.0",
            "grid_template_areas": null,
            "object_position": null,
            "object_fit": null,
            "grid_auto_columns": null,
            "margin": null,
            "display": null,
            "left": null
          }
        }
      }
    }
  },
  "cells": [
    {
      "cell_type": "markdown",
      "metadata": {
        "id": "a91enMbI_f-g",
        "colab_type": "text"
      },
      "source": [
        "# Predicting Stock Prices using a LSTM Network"
      ]
    },
    {
      "cell_type": "markdown",
      "metadata": {
        "id": "h9xPtelk_yox",
        "colab_type": "text"
      },
      "source": [
        "## What is a LSTM Network?\n",
        "Long Short Term Memory networks – usually just called “LSTMs” – are a special kind of RNN, capable of learning long-term dependencies. LSTMs are explicitly designed to avoid the long-term dependency problem. Remembering information for long periods of time is practically their default behavior, not something they struggle to learn!"
      ]
    },
    {
      "cell_type": "markdown",
      "metadata": {
        "id": "c8Bow0oPjQPo",
        "colab_type": "text"
      },
      "source": [
        "## Importing all needed libraries\n",
        "* tqdm: for showing in a nice visual way the progress of the data management\n",
        "* matplotlib: for every plot showed in the notebook\n",
        "* pandas: for managing the data in a dataframe\n",
        "* numpy: for math operations and for making the arrays the LSTM takes as input\n",
        "* scikitlearn: for scaling the data, splitting the dataset and get the LSTM error\n",
        "* keras: for the actual LSTM model\n",
        "* pickle: for saving the best model \n"
      ]
    },
    {
      "cell_type": "code",
      "metadata": {
        "id": "3DOd_1vtVPjJ",
        "colab_type": "code",
        "colab": {
          "base_uri": "https://localhost:8080/",
          "height": 90
        },
        "outputId": "0a1491c7-4053-4d6f-8f50-e54217c5362d"
      },
      "source": [
        "import numpy as np\n",
        "import os\n",
        "import sys\n",
        "import time\n",
        "import pandas as pd \n",
        "from tqdm._tqdm_notebook import tqdm_notebook\n",
        "import pickle\n",
        "\n",
        "import keras\n",
        "from keras.models import Sequential, load_model\n",
        "from keras.layers import Dense, Dropout\n",
        "from keras.layers import LSTM\n",
        "from keras.callbacks import ModelCheckpoint, EarlyStopping, ReduceLROnPlateau, CSVLogger\n",
        "from keras import optimizers\n",
        "# from keras.wrappers.scikit_learn import KerasClassifier\n",
        "from sklearn.preprocessing import MinMaxScaler\n",
        "from sklearn.model_selection import train_test_split\n",
        "from sklearn.metrics import mean_squared_error\n",
        "import logging\n",
        "# import talos as ta\n",
        "\n",
        "from matplotlib import pyplot as plt"
      ],
      "execution_count": 1,
      "outputs": [
        {
          "output_type": "stream",
          "text": [
            "/usr/local/lib/python3.6/dist-packages/ipykernel_launcher.py:6: TqdmDeprecationWarning: This function will be removed in tqdm==5.0.0\n",
            "Please use `tqdm.notebook.*` instead of `tqdm._tqdm_notebook.*`\n",
            "  \n",
            "Using TensorFlow backend.\n"
          ],
          "name": "stderr"
        }
      ]
    },
    {
      "cell_type": "markdown",
      "metadata": {
        "id": "ApF0vC_DXrWu",
        "colab_type": "text"
      },
      "source": [
        "# Create all base functions\n",
        "* print_time: is useful when showing the time it took for the program to do something\n",
        "* trim_dataset: due to the use of timeseries we need to have data that matches the time_series. This function trims the dataset so it fits the time series.\n",
        "* build_timeseries: Build the time series for the input dataset"
      ]
    },
    {
      "cell_type": "code",
      "metadata": {
        "id": "Ts0i9ISIVn3c",
        "colab_type": "code",
        "colab": {}
      },
      "source": [
        "def print_time(text, stime):\n",
        "    seconds = (time.time()-stime)\n",
        "    print(text, seconds//60,\"minutes : \",np.round(seconds%60),\"seconds\")\n",
        "\n",
        "\n",
        "def trim_dataset(mat,batch_size):\n",
        "\n",
        "    no_of_rows_drop = mat.shape[0]%batch_size\n",
        "    if no_of_rows_drop > 0:\n",
        "        return mat[:-no_of_rows_drop]\n",
        "    else:\n",
        "        return mat\n",
        "\n",
        "\n",
        "def build_timeseries(mat, y_col_index):\n",
        "\n",
        "    # total number of time-series samples would be len(mat) - TIME_STEPS\n",
        "    dim_0 = mat.shape[0] - TIME_STEPS\n",
        "    dim_1 = mat.shape[1]\n",
        "    x = np.zeros((dim_0, TIME_STEPS, dim_1))\n",
        "    y = np.zeros((dim_0,))\n",
        "    print(\"dim_0\",dim_0)\n",
        "    for i in tqdm_notebook(range(dim_0)):\n",
        "        x[i] = mat[i:TIME_STEPS+i]\n",
        "        y[i] = mat[TIME_STEPS+i, y_col_index]\n",
        "#         if i < 10:\n",
        "#           print(i,\"-->\", x[i,-1,:], y[i])\n",
        "    print(\"length of time-series i/o\",x.shape,y.shape)\n",
        "    return x, y\n"
      ],
      "execution_count": 0,
      "outputs": []
    },
    {
      "cell_type": "markdown",
      "metadata": {
        "id": "ZF7UXWKrzusc",
        "colab_type": "text"
      },
      "source": [
        "![imagen.png](data:image/png;base64,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)"
      ]
    },
    {
      "cell_type": "markdown",
      "metadata": {
        "id": "F2cdYDdeYfa8",
        "colab_type": "text"
      },
      "source": [
        "# Set the environment variables"
      ]
    },
    {
      "cell_type": "code",
      "metadata": {
        "id": "sH6nm5QeVc-l",
        "colab_type": "code",
        "colab": {}
      },
      "source": [
        "iter_changes = \"lstm\"\n",
        "\n",
        "PATH_TO_DRIVE_ML_DATA = \"/content/drive/My Drive/Proyecto Elements\"\n",
        "INPUT_PATH = PATH_TO_DRIVE_ML_DATA\n",
        "OUTPUT_PATH = PATH_TO_DRIVE_ML_DATA+\"/outputs/\"+iter_changes\n",
        "\n",
        "\n",
        "stime = time.time()"
      ],
      "execution_count": 0,
      "outputs": []
    },
    {
      "cell_type": "markdown",
      "metadata": {
        "id": "uWdXOBdDYmCd",
        "colab_type": "text"
      },
      "source": [
        "## Create the folder structure to save the best model"
      ]
    },
    {
      "cell_type": "code",
      "metadata": {
        "id": "eOslaCoiVjnz",
        "colab_type": "code",
        "colab": {
          "base_uri": "https://localhost:8080/",
          "height": 35
        },
        "outputId": "1ab1ca79-adc4-47b1-bfb0-bcac521559fb"
      },
      "source": [
        "# check if directory already exists\n",
        "if not os.path.exists(OUTPUT_PATH):\n",
        "    os.makedirs(OUTPUT_PATH)\n",
        "    print(\"Directory created\", OUTPUT_PATH)\n",
        "else:\n",
        "    print(\"Directory already exists. Don't override.\")"
      ],
      "execution_count": 4,
      "outputs": [
        {
          "output_type": "stream",
          "text": [
            "Directory already exists. Don't override.\n"
          ],
          "name": "stdout"
        }
      ]
    },
    {
      "cell_type": "markdown",
      "metadata": {
        "id": "mQygiItzYtbQ",
        "colab_type": "text"
      },
      "source": [
        "# Read the dataset"
      ]
    },
    {
      "cell_type": "code",
      "metadata": {
        "id": "YzMZJ1n2Vqj8",
        "colab_type": "code",
        "colab": {
          "base_uri": "https://localhost:8080/",
          "height": 182
        },
        "outputId": "62d30214-ab75-4c7f-b1e6-7bd71488be6a"
      },
      "source": [
        "stime = time.time()\n",
        "#print(os.listdir(\"contents\"))\n",
        "df = pd.read_csv(INPUT_PATH + \"/tsla.us.txt\")\n",
        "print(df.dtypes)\n",
        "print(\"Shape: \", df.shape)"
      ],
      "execution_count": 5,
      "outputs": [
        {
          "output_type": "stream",
          "text": [
            "Date        object\n",
            "Open       float64\n",
            "High       float64\n",
            "Low        float64\n",
            "Close      float64\n",
            "Volume       int64\n",
            "OpenInt      int64\n",
            "dtype: object\n",
            "Shape:  (1858, 7)\n"
          ],
          "name": "stdout"
        }
      ]
    },
    {
      "cell_type": "code",
      "metadata": {
        "id": "8RTCAZUvVuNg",
        "colab_type": "code",
        "colab": {
          "base_uri": "https://localhost:8080/",
          "height": 35
        },
        "outputId": "33130de2-01a3-429d-dcfe-c8b71d770210"
      },
      "source": [
        "print(df.columns)"
      ],
      "execution_count": 6,
      "outputs": [
        {
          "output_type": "stream",
          "text": [
            "Index(['Date', 'Open', 'High', 'Low', 'Close', 'Volume', 'OpenInt'], dtype='object')\n"
          ],
          "name": "stdout"
        }
      ]
    },
    {
      "cell_type": "code",
      "metadata": {
        "id": "EB0WSOuXXqJ9",
        "colab_type": "code",
        "colab": {
          "base_uri": "https://localhost:8080/",
          "height": 206
        },
        "outputId": "3b1b3408-8aa1-4adc-f2ae-41a39a4cb4ba"
      },
      "source": [
        "df.head()"
      ],
      "execution_count": 7,
      "outputs": [
        {
          "output_type": "execute_result",
          "data": {
            "text/html": [
              "<div>\n",
              "<style scoped>\n",
              "    .dataframe tbody tr th:only-of-type {\n",
              "        vertical-align: middle;\n",
              "    }\n",
              "\n",
              "    .dataframe tbody tr th {\n",
              "        vertical-align: top;\n",
              "    }\n",
              "\n",
              "    .dataframe thead th {\n",
              "        text-align: right;\n",
              "    }\n",
              "</style>\n",
              "<table border=\"1\" class=\"dataframe\">\n",
              "  <thead>\n",
              "    <tr style=\"text-align: right;\">\n",
              "      <th></th>\n",
              "      <th>Date</th>\n",
              "      <th>Open</th>\n",
              "      <th>High</th>\n",
              "      <th>Low</th>\n",
              "      <th>Close</th>\n",
              "      <th>Volume</th>\n",
              "      <th>OpenInt</th>\n",
              "    </tr>\n",
              "  </thead>\n",
              "  <tbody>\n",
              "    <tr>\n",
              "      <th>0</th>\n",
              "      <td>2010-06-28</td>\n",
              "      <td>17.00</td>\n",
              "      <td>17.00</td>\n",
              "      <td>17.00</td>\n",
              "      <td>17.00</td>\n",
              "      <td>0</td>\n",
              "      <td>0</td>\n",
              "    </tr>\n",
              "    <tr>\n",
              "      <th>1</th>\n",
              "      <td>2010-06-29</td>\n",
              "      <td>19.00</td>\n",
              "      <td>25.00</td>\n",
              "      <td>17.54</td>\n",
              "      <td>23.89</td>\n",
              "      <td>18783276</td>\n",
              "      <td>0</td>\n",
              "    </tr>\n",
              "    <tr>\n",
              "      <th>2</th>\n",
              "      <td>2010-06-30</td>\n",
              "      <td>25.79</td>\n",
              "      <td>30.42</td>\n",
              "      <td>23.30</td>\n",
              "      <td>23.83</td>\n",
              "      <td>17194394</td>\n",
              "      <td>0</td>\n",
              "    </tr>\n",
              "    <tr>\n",
              "      <th>3</th>\n",
              "      <td>2010-07-01</td>\n",
              "      <td>25.00</td>\n",
              "      <td>25.92</td>\n",
              "      <td>20.27</td>\n",
              "      <td>21.96</td>\n",
              "      <td>8229863</td>\n",
              "      <td>0</td>\n",
              "    </tr>\n",
              "    <tr>\n",
              "      <th>4</th>\n",
              "      <td>2010-07-02</td>\n",
              "      <td>23.00</td>\n",
              "      <td>23.10</td>\n",
              "      <td>18.71</td>\n",
              "      <td>19.20</td>\n",
              "      <td>5141807</td>\n",
              "      <td>0</td>\n",
              "    </tr>\n",
              "  </tbody>\n",
              "</table>\n",
              "</div>"
            ],
            "text/plain": [
              "         Date   Open   High    Low  Close    Volume  OpenInt\n",
              "0  2010-06-28  17.00  17.00  17.00  17.00         0        0\n",
              "1  2010-06-29  19.00  25.00  17.54  23.89  18783276        0\n",
              "2  2010-06-30  25.79  30.42  23.30  23.83  17194394        0\n",
              "3  2010-07-01  25.00  25.92  20.27  21.96   8229863        0\n",
              "4  2010-07-02  23.00  23.10  18.71  19.20   5141807        0"
            ]
          },
          "metadata": {
            "tags": []
          },
          "execution_count": 7
        }
      ]
    },
    {
      "cell_type": "code",
      "metadata": {
        "id": "7sbJ8QbTYxOI",
        "colab_type": "code",
        "colab": {
          "base_uri": "https://localhost:8080/",
          "height": 206
        },
        "outputId": "440e20fa-d273-4c92-9f33-5ad84ef24d74"
      },
      "source": [
        "df.tail()"
      ],
      "execution_count": 8,
      "outputs": [
        {
          "output_type": "execute_result",
          "data": {
            "text/html": [
              "<div>\n",
              "<style scoped>\n",
              "    .dataframe tbody tr th:only-of-type {\n",
              "        vertical-align: middle;\n",
              "    }\n",
              "\n",
              "    .dataframe tbody tr th {\n",
              "        vertical-align: top;\n",
              "    }\n",
              "\n",
              "    .dataframe thead th {\n",
              "        text-align: right;\n",
              "    }\n",
              "</style>\n",
              "<table border=\"1\" class=\"dataframe\">\n",
              "  <thead>\n",
              "    <tr style=\"text-align: right;\">\n",
              "      <th></th>\n",
              "      <th>Date</th>\n",
              "      <th>Open</th>\n",
              "      <th>High</th>\n",
              "      <th>Low</th>\n",
              "      <th>Close</th>\n",
              "      <th>Volume</th>\n",
              "      <th>OpenInt</th>\n",
              "    </tr>\n",
              "  </thead>\n",
              "  <tbody>\n",
              "    <tr>\n",
              "      <th>1853</th>\n",
              "      <td>2017-11-06</td>\n",
              "      <td>307.00</td>\n",
              "      <td>307.50</td>\n",
              "      <td>299.01</td>\n",
              "      <td>302.78</td>\n",
              "      <td>6482486</td>\n",
              "      <td>0</td>\n",
              "    </tr>\n",
              "    <tr>\n",
              "      <th>1854</th>\n",
              "      <td>2017-11-07</td>\n",
              "      <td>301.02</td>\n",
              "      <td>306.50</td>\n",
              "      <td>300.03</td>\n",
              "      <td>306.05</td>\n",
              "      <td>5286320</td>\n",
              "      <td>0</td>\n",
              "    </tr>\n",
              "    <tr>\n",
              "      <th>1855</th>\n",
              "      <td>2017-11-08</td>\n",
              "      <td>305.50</td>\n",
              "      <td>306.89</td>\n",
              "      <td>301.30</td>\n",
              "      <td>304.31</td>\n",
              "      <td>4725510</td>\n",
              "      <td>0</td>\n",
              "    </tr>\n",
              "    <tr>\n",
              "      <th>1856</th>\n",
              "      <td>2017-11-09</td>\n",
              "      <td>302.50</td>\n",
              "      <td>304.46</td>\n",
              "      <td>296.30</td>\n",
              "      <td>302.99</td>\n",
              "      <td>5440335</td>\n",
              "      <td>0</td>\n",
              "    </tr>\n",
              "    <tr>\n",
              "      <th>1857</th>\n",
              "      <td>2017-11-10</td>\n",
              "      <td>302.50</td>\n",
              "      <td>308.36</td>\n",
              "      <td>301.85</td>\n",
              "      <td>302.99</td>\n",
              "      <td>4621912</td>\n",
              "      <td>0</td>\n",
              "    </tr>\n",
              "  </tbody>\n",
              "</table>\n",
              "</div>"
            ],
            "text/plain": [
              "            Date    Open    High     Low   Close   Volume  OpenInt\n",
              "1853  2017-11-06  307.00  307.50  299.01  302.78  6482486        0\n",
              "1854  2017-11-07  301.02  306.50  300.03  306.05  5286320        0\n",
              "1855  2017-11-08  305.50  306.89  301.30  304.31  4725510        0\n",
              "1856  2017-11-09  302.50  304.46  296.30  302.99  5440335        0\n",
              "1857  2017-11-10  302.50  308.36  301.85  302.99  4621912        0"
            ]
          },
          "metadata": {
            "tags": []
          },
          "execution_count": 8
        }
      ]
    },
    {
      "cell_type": "markdown",
      "metadata": {
        "id": "1HWO6Z4IBh3C",
        "colab_type": "text"
      },
      "source": [
        "As we can see the dataset contains the stock prices from tesla from 2010 to 2017. The columns that the dataset has contains the fluctations from the prices during the day. Including: \n",
        "* Open price: which is the price the stock had at the start of the day. \n",
        "* Close price: which is the price the stock had at the end of the day:\n",
        "* High price: which is the highest price the stock had during the day.\n",
        "* Low price: which is the lowest price the stock had during the day.\n",
        "* Volume: which is the number of stocks that were traded during the day."
      ]
    },
    {
      "cell_type": "markdown",
      "metadata": {
        "id": "eOCzbbPwCkLf",
        "colab_type": "text"
      },
      "source": [
        "### Checking for NA values"
      ]
    },
    {
      "cell_type": "code",
      "metadata": {
        "id": "vA9i1qSVChLA",
        "colab_type": "code",
        "outputId": "e1e2d4e9-1472-45f9-cc8b-5840cce3f8f9",
        "colab": {
          "base_uri": "https://localhost:8080/",
          "height": 164
        }
      },
      "source": [
        "df.isna().sum()"
      ],
      "execution_count": 9,
      "outputs": [
        {
          "output_type": "execute_result",
          "data": {
            "text/plain": [
              "Date       0\n",
              "Open       0\n",
              "High       0\n",
              "Low        0\n",
              "Close      0\n",
              "Volume     0\n",
              "OpenInt    0\n",
              "dtype: int64"
            ]
          },
          "metadata": {
            "tags": []
          },
          "execution_count": 9
        }
      ]
    },
    {
      "cell_type": "markdown",
      "metadata": {
        "id": "xU-yZrRyCmY_",
        "colab_type": "text"
      },
      "source": [
        "## Plotting the data "
      ]
    },
    {
      "cell_type": "code",
      "metadata": {
        "id": "AJp4xOpwjjmV",
        "colab_type": "code",
        "outputId": "48242eb7-a586-4283-8930-af6e3ffa10d5",
        "colab": {
          "base_uri": "https://localhost:8080/",
          "height": 458
        }
      },
      "source": [
        "plt.figure(figsize=(12,7))\n",
        "plt.plot(df[\"Open\"])\n",
        "plt.plot(df[\"High\"])\n",
        "plt.plot(df[\"Low\"])\n",
        "plt.plot(df[\"Close\"])\n",
        "plt.title('Tesla stock price history')\n",
        "plt.ylabel('Price (USD)')\n",
        "plt.xlabel('Days')\n",
        "plt.legend(['Open','High','Low','Close'], loc='upper left')\n",
        "plt.show()"
      ],
      "execution_count": 10,
      "outputs": [
        {
          "output_type": "display_data",
          "data": {
            "image/png": "[encoded data removed]",
            "text/plain": [
              "<Figure size 864x504 with 1 Axes>"
            ]
          },
          "metadata": {
            "tags": [],
            "needs_background": "light"
          }
        }
      ]
    },
    {
      "cell_type": "markdown",
      "metadata": {
        "id": "ROKtp4coIHBs",
        "colab_type": "text"
      },
      "source": [
        "As we can see there is little fluctuation in the prices during the day. Except for a few days where the price dropped but the price recovered the next day"
      ]
    },
    {
      "cell_type": "code",
      "metadata": {
        "colab_type": "code",
        "outputId": "6c38544d-b1c3-43cb-ba64-debc75bb44e6",
        "id": "Xgx2ppHDacjC",
        "colab": {
          "base_uri": "https://localhost:8080/",
          "height": 458
        }
      },
      "source": [
        "plt.figure(figsize=(12,7))\n",
        "plt.plot(df[\"Volume\"])\n",
        "plt.title('Tesla stock volume history')\n",
        "plt.ylabel('Volume')\n",
        "plt.xlabel('Days')\n",
        "plt.show()"
      ],
      "execution_count": 11,
      "outputs": [
        {
          "output_type": "display_data",
          "data": {
            "image/png": "[encoded data removed]",
            "text/plain": [
              "<Figure size 864x504 with 1 Axes>"
            ]
          },
          "metadata": {
            "tags": [],
            "needs_background": "light"
          }
        }
      ]
    },
    {
      "cell_type": "markdown",
      "metadata": {
        "id": "4yaUJ-pQCTIN",
        "colab_type": "text"
      },
      "source": [
        "It is interesting to see that the volume of sales of the day went up almost as the same time as the price of the stocks did. "
      ]
    },
    {
      "cell_type": "markdown",
      "metadata": {
        "id": "_a7TWDQKZD0Q",
        "colab_type": "text"
      },
      "source": [
        "## Split the dataset into test and training set\n",
        "Distribution will be an 80% of the dataset for the training and a 20% of the data will be used for testing"
      ]
    },
    {
      "cell_type": "code",
      "metadata": {
        "id": "Tx-GdJBpXruW",
        "colab_type": "code",
        "colab": {
          "base_uri": "https://localhost:8080/",
          "height": 35
        },
        "outputId": "4fbcf128-1cc9-45d7-c30d-d1905c154e1b"
      },
      "source": [
        "tqdm_notebook.pandas('Processing...')\n",
        "\n",
        "\n",
        "train_cols = [\"Open\",\"High\",\"Low\",\"Close\"]\n",
        "df_train, df_test = train_test_split(df, train_size=0.8, test_size=0.2, shuffle=False)\n",
        "print(\"Train--Test size\", len(df_train), len(df_test))"
      ],
      "execution_count": 12,
      "outputs": [
        {
          "output_type": "stream",
          "text": [
            "Train--Test size 1486 372\n"
          ],
          "name": "stdout"
        }
      ]
    },
    {
      "cell_type": "markdown",
      "metadata": {
        "id": "WJJcD1mbZ4Sd",
        "colab_type": "text"
      },
      "source": [
        "## Convert and scale dataset into something to use in the LSTM\n"
      ]
    },
    {
      "cell_type": "code",
      "metadata": {
        "id": "dquUqYKkXwbI",
        "colab_type": "code",
        "colab": {}
      },
      "source": [
        "# scale the feature MinMax, build array\n",
        "x = df_train.loc[:,train_cols].values\n",
        "min_max_scaler = MinMaxScaler()\n",
        "x_train = min_max_scaler.fit_transform(x)\n",
        "x_test = min_max_scaler.transform(df_test.loc[:,train_cols])"
      ],
      "execution_count": 0,
      "outputs": []
    },
    {
      "cell_type": "markdown",
      "metadata": {
        "id": "RqKa_OM4alqy",
        "colab_type": "text"
      },
      "source": [
        "# Create the LSTM model"
      ]
    },
    {
      "cell_type": "code",
      "metadata": {
        "id": "JSWmz0-AX7K6",
        "colab_type": "code",
        "colab": {}
      },
      "source": [
        "def create_model():\n",
        "    lstm_model = Sequential()\n",
        "    # (batch_size, timesteps, data_dim)\n",
        "    lstm_model.add(LSTM(100, batch_input_shape=(BATCH_SIZE, TIME_STEPS, x_t.shape[2]),\n",
        "                        dropout=0.0, recurrent_dropout=0.0, stateful=True, return_sequences=True,\n",
        "                        kernel_initializer='random_uniform'))\n",
        "    lstm_model.add(Dropout(0.4))\n",
        "    lstm_model.add(LSTM(60, dropout=0.0))\n",
        "    lstm_model.add(Dropout(0.4))\n",
        "    lstm_model.add(Dense(20,activation='relu'))\n",
        "    lstm_model.add(Dense(1,activation='sigmoid'))\n",
        "    optimizer = optimizers.RMSprop(lr=params[\"lr\"])\n",
        "    # optimizer = optimizers.SGD(lr=0.000001, decay=1e-6, momentum=0.9, nesterov=True)\n",
        "    lstm_model.compile(loss='mean_squared_error', optimizer=optimizer)\n",
        "    return lstm_model\n"
      ],
      "execution_count": 0,
      "outputs": []
    },
    {
      "cell_type": "code",
      "metadata": {
        "id": "YpsceoJvW6Hf",
        "colab_type": "code",
        "colab": {}
      },
      "source": [
        "def create_model():\n",
        "    lstm_model = Sequential()\n",
        "    lstm_model.add(LSTM(100, batch_input_shape=(BATCH_SIZE, TIME_STEPS, x_t.shape[2]), dropout=0.0, recurrent_dropout=0.0, stateful=True,     kernel_initializer='random_uniform'))\n",
        "    lstm_model.add(Dropout(0.5))\n",
        "    lstm_model.add(Dense(20,activation='relu'))\n",
        "    lstm_model.add(Dense(1,activation='sigmoid'))\n",
        "    optimizer = optimizers.RMSprop(lr=params[\"lr\"])\n",
        "    lstm_model.compile(loss='mean_squared_error', optimizer=optimizer)\n",
        "\n",
        "    return lstm_model"
      ],
      "execution_count": 0,
      "outputs": []
    },
    {
      "cell_type": "markdown",
      "metadata": {
        "id": "Ex6KMeNtasiP",
        "colab_type": "text"
      },
      "source": [
        "## Define the constant parameters to use in the model"
      ]
    },
    {
      "cell_type": "code",
      "metadata": {
        "id": "Xp_Cnua9Vasf",
        "colab_type": "code",
        "colab": {}
      },
      "source": [
        "params = {\n",
        "    \"batch_size\": 2,  # 20<16<10, 25 was a bust\n",
        "    \"epochs\": 50,\n",
        "    \"lr\": 0.0001,\n",
        "    \"time_steps\": 3\n",
        "}"
      ],
      "execution_count": 0,
      "outputs": []
    },
    {
      "cell_type": "code",
      "metadata": {
        "id": "nXKbUyUFQmtR",
        "colab_type": "code",
        "colab": {}
      },
      "source": [
        "TIME_STEPS = params[\"time_steps\"]\n",
        "BATCH_SIZE = params[\"batch_size\"]"
      ],
      "execution_count": 0,
      "outputs": []
    },
    {
      "cell_type": "markdown",
      "metadata": {
        "id": "dUyS6N6gaxq3",
        "colab_type": "text"
      },
      "source": [
        "# Convert the dataset into Time Series "
      ]
    },
    {
      "cell_type": "markdown",
      "metadata": {
        "id": "91oa5-Yya9gy",
        "colab_type": "text"
      },
      "source": [
        "### Trim the dataset so it fits the time series"
      ]
    },
    {
      "cell_type": "code",
      "metadata": {
        "id": "aclOUUE5R7og",
        "colab_type": "code",
        "colab": {
          "base_uri": "https://localhost:8080/",
          "height": 122,
          "referenced_widgets": [
            "f17e007afe0f4bd084df301909ae6eeb",
            "2c1d82e117d7467abbeaafe5f8ba3c5e",
            "1fe16b12fc7f4901b3a9cf6bd0158dc9",
            "dcfb74878dfb498f942754e426d72eda",
            "e218a4ea5e5e4cb1b78967c7c8be6a45",
            "89e109039da2461d82ca35ac58460c6c",
            "86eda04ed918437ea8f1a7a961c9fd48",
            "a37fc34ae01c4c67ad154f83830531d5"
          ]
        },
        "outputId": "3277e207-5e62-4a5b-bd7c-47acd8c4d04b"
      },
      "source": [
        "x_t, y_t = build_timeseries(x_train, 3)\n",
        "x_t = trim_dataset(x_t, BATCH_SIZE)\n",
        "y_t = trim_dataset(y_t, BATCH_SIZE)\n",
        "print(\"Batch trimmed size\",x_t.shape, y_t.shape)"
      ],
      "execution_count": 19,
      "outputs": [
        {
          "output_type": "stream",
          "text": [
            "dim_0 1483\n"
          ],
          "name": "stdout"
        },
        {
          "output_type": "display_data",
          "data": {
            "application/vnd.jupyter.widget-view+json": {
              "model_id": "f17e007afe0f4bd084df301909ae6eeb",
              "version_minor": 0,
              "version_major": 2
            },
            "text/plain": [
              "HBox(children=(FloatProgress(value=0.0, max=1483.0), HTML(value='')))"
            ]
          },
          "metadata": {
            "tags": []
          }
        },
        {
          "output_type": "stream",
          "text": [
            "\n",
            "length of time-series i/o (1483, 3, 4) (1483,)\n",
            "Batch trimmed size (1482, 3, 4) (1482,)\n"
          ],
          "name": "stdout"
        }
      ]
    },
    {
      "cell_type": "markdown",
      "metadata": {
        "id": "VBXMHwnxbAmq",
        "colab_type": "text"
      },
      "source": [
        "### Build the time series using the dataset"
      ]
    },
    {
      "cell_type": "code",
      "metadata": {
        "id": "h2C24wvzYDNX",
        "colab_type": "code",
        "colab": {
          "base_uri": "https://localhost:8080/",
          "height": 122,
          "referenced_widgets": [
            "ea5c4e5147f845d797c6fb01571f23f3",
            "fbc547e19b474d91bf65769f712d6d74",
            "17d3e89e2ea94e879802ee57d87c4d7e",
            "6d66d6b73e09470098d84d0070d15f7b",
            "4d7e16ac5687403b9dd7d7f3ef046504",
            "6f031237229c48fc97c0bc2f65e34062",
            "410d0dc398b94b968b211eb310d0b389",
            "b43155c71b354692bb029cd7a90e7ce1"
          ]
        },
        "outputId": "454984a1-c2b8-4e18-bbe6-e589808057e6"
      },
      "source": [
        "x_temp, y_temp = build_timeseries(x_test, 3)\n",
        "x_val, x_test_t = np.split(trim_dataset(x_temp, BATCH_SIZE),2)\n",
        "y_val, y_test_t = np.split(trim_dataset(y_temp, BATCH_SIZE),2)\n",
        "print(\"Test size\", x_test_t.shape, y_test_t.shape, x_val.shape, y_val.shape)"
      ],
      "execution_count": 20,
      "outputs": [
        {
          "output_type": "stream",
          "text": [
            "dim_0 369\n"
          ],
          "name": "stdout"
        },
        {
          "output_type": "display_data",
          "data": {
            "application/vnd.jupyter.widget-view+json": {
              "model_id": "ea5c4e5147f845d797c6fb01571f23f3",
              "version_minor": 0,
              "version_major": 2
            },
            "text/plain": [
              "HBox(children=(FloatProgress(value=0.0, max=369.0), HTML(value='')))"
            ]
          },
          "metadata": {
            "tags": []
          }
        },
        {
          "output_type": "stream",
          "text": [
            "\n",
            "length of time-series i/o (369, 3, 4) (369,)\n",
            "Test size (184, 3, 4) (184,) (184, 3, 4) (184,)\n"
          ],
          "name": "stdout"
        }
      ]
    },
    {
      "cell_type": "markdown",
      "metadata": {
        "id": "61XkX_eabe14",
        "colab_type": "text"
      },
      "source": [
        "## Look for an existing saved model and loaded it if possible"
      ]
    },
    {
      "cell_type": "code",
      "metadata": {
        "id": "PtMZ4KjhYAUH",
        "colab_type": "code",
        "colab": {
          "base_uri": "https://localhost:8080/",
          "height": 35
        },
        "outputId": "4ec3c39d-7277-4d8f-c731-ae39226fa939"
      },
      "source": [
        "model = None\n",
        "try:\n",
        "    model = pickle.load(open(\"lstm_model\", 'rb'))\n",
        "    print(\"Loaded saved model...\")\n",
        "except FileNotFoundError:\n",
        "    print(\"Model not found\")"
      ],
      "execution_count": 21,
      "outputs": [
        {
          "output_type": "stream",
          "text": [
            "Model not found\n"
          ],
          "name": "stdout"
        }
      ]
    },
    {
      "cell_type": "markdown",
      "metadata": {
        "id": "WyXT9Q8Ebkw8",
        "colab_type": "text"
      },
      "source": [
        "# Update the last saved model"
      ]
    },
    {
      "cell_type": "code",
      "metadata": {
        "id": "qjchgXXWYFgl",
        "colab_type": "code",
        "colab": {
          "base_uri": "https://localhost:8080/",
          "height": 1000
        },
        "outputId": "db406a57-3b23-4944-b64d-fdfae8c7b895"
      },
      "source": [
        "is_update_model = True\n",
        "if model is None or is_update_model:\n",
        "    from keras import backend as K\n",
        "    print(\"Building model...\")\n",
        "    #print(\"checking if GPU available\", K.tensorflow_backend._get_available_gpus())\n",
        "    model = create_model()\n",
        "    \n",
        "    es = EarlyStopping(monitor='val_loss', mode='min', verbose=1,\n",
        "                       patience=40, min_delta=0.0001)\n",
        "    \n",
        "    mcp = ModelCheckpoint(os.path.join(OUTPUT_PATH,\n",
        "                          \"best_model.h5\"), monitor='val_loss', verbose=1,\n",
        "                          save_best_only=True, save_weights_only=False, mode='min', period=1)\n",
        "\n",
        "    csv_logger = CSVLogger(os.path.join(OUTPUT_PATH, 'training_log_' + time.ctime().replace(\" \",\"_\") + '.log'), append=True)\n",
        "    \n",
        "    history = model.fit(x_t, y_t, epochs=params[\"epochs\"], verbose=2, batch_size=BATCH_SIZE,\n",
        "                        shuffle=False, validation_data=(trim_dataset(x_val, BATCH_SIZE),\n",
        "                        trim_dataset(y_val, BATCH_SIZE)), callbacks=[es, mcp, csv_logger])\n",
        "    \n",
        "    print(\"saving model...\")\n",
        "    pickle.dump(model, open(\"lstm_model\", \"wb\"))"
      ],
      "execution_count": 22,
      "outputs": [
        {
          "output_type": "stream",
          "text": [
            "Building model...\n",
            "Train on 1482 samples, validate on 184 samples\n",
            "Epoch 1/50\n",
            " - 3s - loss: 0.0323 - val_loss: 0.0043\n",
            "\n",
            "Epoch 00001: val_loss improved from inf to 0.00426, saving model to /content/drive/My Drive/Proyecto Elements/outputs/lstm/best_model.h5\n",
            "Epoch 2/50\n",
            " - 2s - loss: 0.0277 - val_loss: 0.0039\n",
            "\n",
            "Epoch 00002: val_loss improved from 0.00426 to 0.00391, saving model to /content/drive/My Drive/Proyecto Elements/outputs/lstm/best_model.h5\n",
            "Epoch 3/50\n",
            " - 2s - loss: 0.0168 - val_loss: 0.0037\n",
            "\n",
            "Epoch 00003: val_loss improved from 0.00391 to 0.00367, saving model to /content/drive/My Drive/Proyecto Elements/outputs/lstm/best_model.h5\n",
            "Epoch 4/50\n",
            " - 2s - loss: 0.0125 - val_loss: 0.0035\n",
            "\n",
            "Epoch 00004: val_loss improved from 0.00367 to 0.00352, saving model to /content/drive/My Drive/Proyecto Elements/outputs/lstm/best_model.h5\n",
            "Epoch 5/50\n",
            " - 2s - loss: 0.0105 - val_loss: 0.0038\n",
            "\n",
            "Epoch 00005: val_loss did not improve from 0.00352\n",
            "Epoch 6/50\n",
            " - 2s - loss: 0.0092 - val_loss: 0.0040\n",
            "\n",
            "Epoch 00006: val_loss did not improve from 0.00352\n",
            "Epoch 7/50\n",
            " - 2s - loss: 0.0078 - val_loss: 0.0040\n",
            "\n",
            "Epoch 00007: val_loss did not improve from 0.00352\n",
            "Epoch 8/50\n",
            " - 2s - loss: 0.0075 - val_loss: 0.0038\n",
            "\n",
            "Epoch 00008: val_loss did not improve from 0.00352\n",
            "Epoch 9/50\n",
            " - 2s - loss: 0.0072 - val_loss: 0.0040\n",
            "\n",
            "Epoch 00009: val_loss did not improve from 0.00352\n",
            "Epoch 10/50\n",
            " - 2s - loss: 0.0062 - val_loss: 0.0046\n",
            "\n",
            "Epoch 00010: val_loss did not improve from 0.00352\n",
            "Epoch 11/50\n",
            " - 2s - loss: 0.0058 - val_loss: 0.0045\n",
            "\n",
            "Epoch 00011: val_loss did not improve from 0.00352\n",
            "Epoch 12/50\n",
            " - 2s - loss: 0.0058 - val_loss: 0.0048\n",
            "\n",
            "Epoch 00012: val_loss did not improve from 0.00352\n",
            "Epoch 13/50\n",
            " - 2s - loss: 0.0045 - val_loss: 0.0027\n",
            "\n",
            "Epoch 00013: val_loss improved from 0.00352 to 0.00274, saving model to /content/drive/My Drive/Proyecto Elements/outputs/lstm/best_model.h5\n",
            "Epoch 14/50\n",
            " - 2s - loss: 0.0044 - val_loss: 0.0025\n",
            "\n",
            "Epoch 00014: val_loss improved from 0.00274 to 0.00254, saving model to /content/drive/My Drive/Proyecto Elements/outputs/lstm/best_model.h5\n",
            "Epoch 15/50\n",
            " - 2s - loss: 0.0045 - val_loss: 0.0024\n",
            "\n",
            "Epoch 00015: val_loss improved from 0.00254 to 0.00240, saving model to /content/drive/My Drive/Proyecto Elements/outputs/lstm/best_model.h5\n",
            "Epoch 16/50\n",
            " - 2s - loss: 0.0042 - val_loss: 0.0020\n",
            "\n",
            "Epoch 00016: val_loss improved from 0.00240 to 0.00197, saving model to /content/drive/My Drive/Proyecto Elements/outputs/lstm/best_model.h5\n",
            "Epoch 17/50\n",
            " - 2s - loss: 0.0035 - val_loss: 0.0020\n",
            "\n",
            "Epoch 00017: val_loss did not improve from 0.00197\n",
            "Epoch 18/50\n",
            " - 2s - loss: 0.0037 - val_loss: 0.0022\n",
            "\n",
            "Epoch 00018: val_loss did not improve from 0.00197\n",
            "Epoch 19/50\n",
            " - 2s - loss: 0.0039 - val_loss: 0.0022\n",
            "\n",
            "Epoch 00019: val_loss did not improve from 0.00197\n",
            "Epoch 20/50\n",
            " - 2s - loss: 0.0034 - val_loss: 0.0020\n",
            "\n",
            "Epoch 00020: val_loss did not improve from 0.00197\n",
            "Epoch 21/50\n",
            " - 2s - loss: 0.0030 - val_loss: 0.0020\n",
            "\n",
            "Epoch 00021: val_loss did not improve from 0.00197\n",
            "Epoch 22/50\n",
            " - 2s - loss: 0.0033 - val_loss: 0.0021\n",
            "\n",
            "Epoch 00022: val_loss did not improve from 0.00197\n",
            "Epoch 23/50\n",
            " - 2s - loss: 0.0028 - val_loss: 0.0019\n",
            "\n",
            "Epoch 00023: val_loss improved from 0.00197 to 0.00193, saving model to /content/drive/My Drive/Proyecto Elements/outputs/lstm/best_model.h5\n",
            "Epoch 24/50\n",
            " - 2s - loss: 0.0027 - val_loss: 0.0019\n",
            "\n",
            "Epoch 00024: val_loss improved from 0.00193 to 0.00190, saving model to /content/drive/My Drive/Proyecto Elements/outputs/lstm/best_model.h5\n",
            "Epoch 25/50\n",
            " - 2s - loss: 0.0026 - val_loss: 0.0020\n",
            "\n",
            "Epoch 00025: val_loss did not improve from 0.00190\n",
            "Epoch 26/50\n",
            " - 2s - loss: 0.0025 - val_loss: 0.0020\n",
            "\n",
            "Epoch 00026: val_loss did not improve from 0.00190\n",
            "Epoch 27/50\n",
            " - 2s - loss: 0.0024 - val_loss: 0.0017\n",
            "\n",
            "Epoch 00027: val_loss improved from 0.00190 to 0.00174, saving model to /content/drive/My Drive/Proyecto Elements/outputs/lstm/best_model.h5\n",
            "Epoch 28/50\n",
            " - 2s - loss: 0.0023 - val_loss: 0.0020\n",
            "\n",
            "Epoch 00028: val_loss did not improve from 0.00174\n",
            "Epoch 29/50\n",
            " - 2s - loss: 0.0022 - val_loss: 0.0020\n",
            "\n",
            "Epoch 00029: val_loss did not improve from 0.00174\n",
            "Epoch 30/50\n",
            " - 2s - loss: 0.0022 - val_loss: 0.0018\n",
            "\n",
            "Epoch 00030: val_loss did not improve from 0.00174\n",
            "Epoch 31/50\n",
            " - 2s - loss: 0.0022 - val_loss: 0.0016\n",
            "\n",
            "Epoch 00031: val_loss improved from 0.00174 to 0.00162, saving model to /content/drive/My Drive/Proyecto Elements/outputs/lstm/best_model.h5\n",
            "Epoch 32/50\n",
            " - 2s - loss: 0.0020 - val_loss: 0.0015\n",
            "\n",
            "Epoch 00032: val_loss improved from 0.00162 to 0.00155, saving model to /content/drive/My Drive/Proyecto Elements/outputs/lstm/best_model.h5\n",
            "Epoch 33/50\n",
            " - 2s - loss: 0.0019 - val_loss: 0.0015\n",
            "\n",
            "Epoch 00033: val_loss improved from 0.00155 to 0.00148, saving model to /content/drive/My Drive/Proyecto Elements/outputs/lstm/best_model.h5\n",
            "Epoch 34/50\n",
            " - 2s - loss: 0.0018 - val_loss: 0.0023\n",
            "\n",
            "Epoch 00034: val_loss did not improve from 0.00148\n",
            "Epoch 35/50\n",
            " - 2s - loss: 0.0017 - val_loss: 0.0015\n",
            "\n",
            "Epoch 00035: val_loss did not improve from 0.00148\n",
            "Epoch 36/50\n",
            " - 2s - loss: 0.0016 - val_loss: 0.0015\n",
            "\n",
            "Epoch 00036: val_loss did not improve from 0.00148\n",
            "Epoch 37/50\n",
            " - 2s - loss: 0.0017 - val_loss: 0.0016\n",
            "\n",
            "Epoch 00037: val_loss did not improve from 0.00148\n",
            "Epoch 38/50\n",
            " - 2s - loss: 0.0015 - val_loss: 0.0016\n",
            "\n",
            "Epoch 00038: val_loss did not improve from 0.00148\n",
            "Epoch 39/50\n",
            " - 2s - loss: 0.0017 - val_loss: 0.0017\n",
            "\n",
            "Epoch 00039: val_loss did not improve from 0.00148\n",
            "Epoch 40/50\n",
            " - 2s - loss: 0.0017 - val_loss: 0.0018\n",
            "\n",
            "Epoch 00040: val_loss did not improve from 0.00148\n",
            "Epoch 41/50\n",
            " - 2s - loss: 0.0016 - val_loss: 0.0022\n",
            "\n",
            "Epoch 00041: val_loss did not improve from 0.00148\n",
            "Epoch 42/50\n",
            " - 2s - loss: 0.0017 - val_loss: 0.0016\n",
            "\n",
            "Epoch 00042: val_loss did not improve from 0.00148\n",
            "Epoch 43/50\n",
            " - 2s - loss: 0.0016 - val_loss: 0.0018\n",
            "\n",
            "Epoch 00043: val_loss did not improve from 0.00148\n",
            "Epoch 44/50\n",
            " - 2s - loss: 0.0016 - val_loss: 0.0017\n",
            "\n",
            "Epoch 00044: val_loss did not improve from 0.00148\n",
            "Epoch 45/50\n",
            " - 2s - loss: 0.0016 - val_loss: 0.0019\n",
            "\n",
            "Epoch 00045: val_loss did not improve from 0.00148\n",
            "Epoch 46/50\n",
            " - 2s - loss: 0.0015 - val_loss: 0.0044\n",
            "\n",
            "Epoch 00046: val_loss did not improve from 0.00148\n",
            "Epoch 47/50\n",
            " - 2s - loss: 0.0014 - val_loss: 0.0025\n",
            "\n",
            "Epoch 00047: val_loss did not improve from 0.00148\n",
            "Epoch 48/50\n",
            " - 2s - loss: 0.0015 - val_loss: 0.0020\n",
            "\n",
            "Epoch 00048: val_loss did not improve from 0.00148\n",
            "Epoch 49/50\n",
            " - 2s - loss: 0.0015 - val_loss: 0.0022\n",
            "\n",
            "Epoch 00049: val_loss did not improve from 0.00148\n",
            "Epoch 50/50\n",
            " - 2s - loss: 0.0015 - val_loss: 0.0047\n",
            "\n",
            "Epoch 00050: val_loss did not improve from 0.00148\n",
            "saving model...\n"
          ],
          "name": "stdout"
        }
      ]
    },
    {
      "cell_type": "code",
      "metadata": {
        "id": "7oftgyqAcaXQ",
        "colab_type": "code",
        "outputId": "d379ad39-91cd-4054-d056-4ea9c4fda252",
        "colab": {
          "base_uri": "https://localhost:8080/",
          "height": 466
        }
      },
      "source": [
        "keras.utils.plot_model(\n",
        "    model,    \n",
        "    show_shapes=False,\n",
        "    show_layer_names=True,\n",
        "    rankdir=\"TB\",\n",
        "    expand_nested=False,\n",
        "    dpi=96,\n",
        ")"
      ],
      "execution_count": 23,
      "outputs": [
        {
          "output_type": "execute_result",
          "data": {
            "image/png": "[encoded data removed]",
            "text/plain": [
              "<IPython.core.display.Image object>"
            ]
          },
          "metadata": {
            "tags": []
          },
          "execution_count": 23
        }
      ]
    },
    {
      "cell_type": "markdown",
      "metadata": {
        "id": "Mro2k0tz3zyv",
        "colab_type": "text"
      },
      "source": [
        "## LSTM Layer\n",
        "It is the Long Short-Term Memory Layer. It makes sure that the network \"remembers\" old inputs.\n",
        "\n",
        "## Dropout Layer\n",
        "Ignores some the neurons in the layer. It is useful for regularization\n",
        "\n",
        "## Dense Layer\n",
        "Common full-prop layer"
      ]
    },
    {
      "cell_type": "markdown",
      "metadata": {
        "id": "L6wqGn-Ic1Br",
        "colab_type": "text"
      },
      "source": [
        "# Visualize the training data"
      ]
    },
    {
      "cell_type": "code",
      "metadata": {
        "id": "IH0frZRi5NVB",
        "colab_type": "code",
        "colab": {
          "base_uri": "https://localhost:8080/",
          "height": 458
        },
        "outputId": "66b8583f-b1a1-46a7-a35e-eaaeb27185a6"
      },
      "source": [
        "plt.figure(figsize=(12,7))\n",
        "plt.plot(history.history['loss'])\n",
        "plt.plot(history.history['val_loss'])\n",
        "plt.title('Model loss')\n",
        "plt.ylabel('Loss')\n",
        "plt.xlabel('Epoch')\n",
        "plt.legend(['Train', 'Test'], loc='upper right')\n",
        "#plt.show()\n",
        "plt.savefig(os.path.join(OUTPUT_PATH, 'train_vis_BS_'+str(BATCH_SIZE)+\"_\"+time.ctime()+'.png'))"
      ],
      "execution_count": 24,
      "outputs": [
        {
          "output_type": "display_data",
          "data": {
            "image/png": "[encoded data removed]",
            "text/plain": [
              "<Figure size 864x504 with 1 Axes>"
            ]
          },
          "metadata": {
            "tags": [],
            "needs_background": "light"
          }
        }
      ]
    },
    {
      "cell_type": "markdown",
      "metadata": {
        "id": "NP5_xJRIc4xQ",
        "colab_type": "text"
      },
      "source": [
        "# Load the saved best model"
      ]
    },
    {
      "cell_type": "code",
      "metadata": {
        "id": "HrArAUeP5QOY",
        "colab_type": "code",
        "colab": {
          "base_uri": "https://localhost:8080/",
          "height": 35
        },
        "outputId": "be88658c-66f5-437b-bc93-91b3cf177669"
      },
      "source": [
        "saved_model = load_model(os.path.join(OUTPUT_PATH, 'best_model.h5')) # , \"lstm_best_7-3-19_12AM\",\n",
        "print(saved_model)"
      ],
      "execution_count": 25,
      "outputs": [
        {
          "output_type": "stream",
          "text": [
            "<keras.engine.sequential.Sequential object at 0x7ff498fefeb8>\n"
          ],
          "name": "stdout"
        }
      ]
    },
    {
      "cell_type": "markdown",
      "metadata": {
        "id": "OqBOLKsAbuv9",
        "colab_type": "text"
      },
      "source": [
        "# Make a prediction "
      ]
    },
    {
      "cell_type": "code",
      "metadata": {
        "id": "tCKiWk8hYKaS",
        "colab_type": "code",
        "colab": {
          "base_uri": "https://localhost:8080/",
          "height": 54
        },
        "outputId": "726f1b72-9d02-4f5f-9ecf-843e1d12d15d"
      },
      "source": [
        "y_pred = saved_model.predict(trim_dataset(x_test_t, BATCH_SIZE), batch_size=BATCH_SIZE)\n",
        "y_pred = y_pred.flatten()\n",
        "y_test_t = trim_dataset(y_test_t, BATCH_SIZE)\n",
        "error = mean_squared_error(y_test_t, y_pred)\n",
        "print(\"Error is:\", error, y_pred.shape, y_test_t.shape)\n",
        "print(\"Accuracy is:\", (100 - error), y_pred.shape, y_test_t.shape)\n",
        "#print(y_pred[0:15])\n",
        "#print(y_test_t[0:15])"
      ],
      "execution_count": 26,
      "outputs": [
        {
          "output_type": "stream",
          "text": [
            "Error is: 0.05366616025374168 (184,) (184,)\n",
            "Accuracy is: 99.94633383974626 (184,) (184,)\n"
          ],
          "name": "stdout"
        }
      ]
    },
    {
      "cell_type": "markdown",
      "metadata": {
        "id": "rFZ8xeQQcyIX",
        "colab_type": "text"
      },
      "source": [
        "## Convert the prediction into real numbers instead of the scaled values"
      ]
    },
    {
      "cell_type": "code",
      "metadata": {
        "id": "Do-h_XLr5KU_",
        "colab_type": "code",
        "colab": {
          "base_uri": "https://localhost:8080/",
          "height": 146
        },
        "outputId": "3d96cd0e-d3a4-4f02-bfa6-50fe1a69e08d"
      },
      "source": [
        "# convert the predicted value to range of real data\n",
        "y_pred_org = (y_pred * min_max_scaler.data_range_[3]) + min_max_scaler.data_min_[3]\n",
        "# min_max_scaler.inverse_transform(y_pred)\n",
        "y_test_t_org = (y_test_t * min_max_scaler.data_range_[3]) + min_max_scaler.data_min_[3]\n",
        "# min_max_scaler.inverse_transform(y_test_t)\n",
        "print(y_pred_org[0:15])\n",
        "print(y_test_t_org[0:15])\n",
        "error = mean_squared_error(y_test_t_org, y_pred_org)\n",
        "print(\"Error is:\", error, y_pred.shape, y_test_t.shape)\n",
        "print(\"Accuracy is:\", (100 - error), y_pred.shape, y_test_t.shape)"
      ],
      "execution_count": 27,
      "outputs": [
        {
          "output_type": "stream",
          "text": [
            "[210.58228 210.28508 254.02036 253.62819 263.72845 260.65143 246.43282\n",
            " 242.61131 229.09459 230.2558  242.89215 244.43811 258.78067 258.0129\n",
            " 259.61053]\n",
            "[277.39 273.51 255.99 257.   246.23 249.99 250.02 250.48 251.57 251.21\n",
            " 248.59 246.83 244.9  243.69 246.17]\n",
            "Error is: 3919.223388460379 (184,) (184,)\n",
            "Accuracy is: -3819.223388460379 (184,) (184,)\n"
          ],
          "name": "stdout"
        }
      ]
    },
    {
      "cell_type": "markdown",
      "metadata": {
        "id": "9Y3P8ZEKoOZl",
        "colab_type": "text"
      },
      "source": [
        "# Visualize the prediction"
      ]
    },
    {
      "cell_type": "code",
      "metadata": {
        "id": "82310pb05Y7u",
        "colab_type": "code",
        "colab": {
          "base_uri": "https://localhost:8080/",
          "height": 476
        },
        "outputId": "64235d9c-dac4-451a-9828-137b131f118a"
      },
      "source": [
        "plt.figure(figsize=(12,7))\n",
        "plt.plot(y_pred_org)\n",
        "plt.plot(y_test_t_org)\n",
        "plt.title('Prediction vs Real Stock Price')\n",
        "plt.ylabel('Price')\n",
        "plt.xlabel('Days')\n",
        "plt.legend(['Prediction', 'Real'], loc='upper left')\n",
        "plt.show()\n",
        "\n",
        "print_time(\"program completed \", stime)"
      ],
      "execution_count": 29,
      "outputs": [
        {
          "output_type": "display_data",
          "data": {
            "image/png": "[encoded data removed]",
            "text/plain": [
              "<Figure size 864x504 with 1 Axes>"
            ]
          },
          "metadata": {
            "tags": [],
            "needs_background": "light"
          }
        },
        {
          "output_type": "stream",
          "text": [
            "program completed  2.0 minutes :  46.0 seconds\n"
          ],
          "name": "stdout"
        }
      ]
    },
    {
      "cell_type": "markdown",
      "metadata": {
        "id": "ic7y_utvj-QQ",
        "colab_type": "text"
      },
      "source": [
        "# Test Amazon when traning with Tesla"
      ]
    },
    {
      "cell_type": "code",
      "metadata": {
        "id": "gQLbWwuakCOs",
        "colab_type": "code",
        "outputId": "ce3a1a58-c616-45cb-be4b-e2dea77f2971",
        "colab": {
          "base_uri": "https://localhost:8080/",
          "height": 182
        }
      },
      "source": [
        "stime = time.time()\n",
        "#print(os.listdir(\"contents\"))\n",
        "df = pd.read_csv(INPUT_PATH + \"/amzn.us.txt\")\n",
        "print(df.dtypes)\n",
        "print(\"Shape: \", df.shape)"
      ],
      "execution_count": 0,
      "outputs": [
        {
          "output_type": "stream",
          "text": [
            "Date        object\n",
            "Open       float64\n",
            "High       float64\n",
            "Low        float64\n",
            "Close      float64\n",
            "Volume       int64\n",
            "OpenInt      int64\n",
            "dtype: object\n",
            "Shape:  (5153, 7)\n"
          ],
          "name": "stdout"
        }
      ]
    },
    {
      "cell_type": "markdown",
      "metadata": {
        "id": "9lrdHdrDklMm",
        "colab_type": "text"
      },
      "source": [
        "# Plotting Amazon Data"
      ]
    },
    {
      "cell_type": "code",
      "metadata": {
        "id": "TSW7X2o0kemp",
        "colab_type": "code",
        "outputId": "c00c437b-36c3-4b5f-b2dc-055bd5d33146",
        "colab": {
          "base_uri": "https://localhost:8080/",
          "height": 458
        }
      },
      "source": [
        "plt.figure(figsize=(12,7))\n",
        "plt.plot(df[\"Open\"])\n",
        "plt.plot(df[\"High\"])\n",
        "plt.plot(df[\"Low\"])\n",
        "plt.plot(df[\"Close\"])\n",
        "plt.title('Tesla stock price history')\n",
        "plt.ylabel('Price (USD)')\n",
        "plt.xlabel('Days')\n",
        "plt.legend(['Open','High','Low','Close'], loc='upper left')\n",
        "plt.show()"
      ],
      "execution_count": 0,
      "outputs": [
        {
          "output_type": "display_data",
          "data": {
            "image/png": "[encoded data removed]",
            "text/plain": [
              "<Figure size 864x504 with 1 Axes>"
            ]
          },
          "metadata": {
            "tags": [],
            "needs_background": "light"
          }
        }
      ]
    },
    {
      "cell_type": "markdown",
      "metadata": {
        "id": "4z5zUoTekupZ",
        "colab_type": "text"
      },
      "source": [
        "## Split data"
      ]
    },
    {
      "cell_type": "code",
      "metadata": {
        "id": "SyXuaxQ6knbL",
        "colab_type": "code",
        "outputId": "172a3a1b-9ed6-4be7-b7b4-3b771e035ec8",
        "colab": {
          "base_uri": "https://localhost:8080/",
          "height": 35
        }
      },
      "source": [
        "tqdm_notebook.pandas('Processing...')\n",
        "\n",
        "\n",
        "train_cols = [\"Open\",\"High\",\"Low\",\"Close\",\"Volume\"]\n",
        "df_train, df_test = train_test_split(df, train_size=0.8, test_size=0.2, shuffle=False)\n",
        "print(\"Train--Test size\", len(df_train), len(df_test))"
      ],
      "execution_count": 0,
      "outputs": [
        {
          "output_type": "stream",
          "text": [
            "Train--Test size 4122 1031\n"
          ],
          "name": "stdout"
        }
      ]
    },
    {
      "cell_type": "code",
      "metadata": {
        "id": "CymG26_OlIyV",
        "colab_type": "code",
        "colab": {}
      },
      "source": [
        "# scale the feature MinMax, build array\n",
        "x = df_train.loc[:,train_cols].values\n",
        "min_max_scaler = MinMaxScaler()\n",
        "x_train = min_max_scaler.fit_transform(x)\n",
        "x_test = min_max_scaler.transform(df_test.loc[:,train_cols])"
      ],
      "execution_count": 0,
      "outputs": []
    },
    {
      "cell_type": "code",
      "metadata": {
        "id": "0i4P76MGlOxZ",
        "colab_type": "code",
        "colab": {}
      },
      "source": [
        "params = {\n",
        "    \"batch_size\": 2,  # 20<16<10, 25 was a bust\n",
        "    \"epochs\": 100,\n",
        "    \"lr\": 0.0001,\n",
        "    \"time_steps\": 3\n",
        "}"
      ],
      "execution_count": 0,
      "outputs": []
    },
    {
      "cell_type": "code",
      "metadata": {
        "id": "VSbiKsiJlpAP",
        "colab_type": "code",
        "colab": {}
      },
      "source": [
        "TIME_STEPS = params[\"time_steps\"]\n",
        "BATCH_SIZE = params[\"batch_size\"]"
      ],
      "execution_count": 0,
      "outputs": []
    },
    {
      "cell_type": "markdown",
      "metadata": {
        "id": "_uAvmVNllvKi",
        "colab_type": "text"
      },
      "source": [
        "## Trim"
      ]
    },
    {
      "cell_type": "code",
      "metadata": {
        "id": "MTiHmrWAlrFW",
        "colab_type": "code",
        "outputId": "62cec405-7b9d-4113-dfd8-1929d85c903a",
        "colab": {
          "base_uri": "https://localhost:8080/",
          "height": 122,
          "referenced_widgets": [
            "b61175e511db4aaf96bea32475c4e0ed",
            "10bf28d354b14753b1fb14c0e800ff60",
            "cc804f05bc8048c58551f3bd86d702be",
            "fc9ff8892c18436496a3160b8ae0599b",
            "743540800c5346f8b64ea7c5c997f8e2",
            "7832e1cae7974559973158c3d3e509fb",
            "f22afbf72a9644119b8c813e3cdc014c",
            "4f0b5f7565e24f779d1b01b6dd92fe94"
          ]
        }
      },
      "source": [
        "x_t, y_t = build_timeseries(x_train, 3)\n",
        "x_t = trim_dataset(x_t, BATCH_SIZE)\n",
        "y_t = trim_dataset(y_t, BATCH_SIZE)\n",
        "print(\"Batch trimmed size\",x_t.shape, y_t.shape)"
      ],
      "execution_count": 0,
      "outputs": [
        {
          "output_type": "stream",
          "text": [
            "dim_0 4119\n"
          ],
          "name": "stdout"
        },
        {
          "output_type": "display_data",
          "data": {
            "application/vnd.jupyter.widget-view+json": {
              "model_id": "b61175e511db4aaf96bea32475c4e0ed",
              "version_minor": 0,
              "version_major": 2
            },
            "text/plain": [
              "HBox(children=(FloatProgress(value=0.0, max=4119.0), HTML(value='')))"
            ]
          },
          "metadata": {
            "tags": []
          }
        },
        {
          "output_type": "stream",
          "text": [
            "\n",
            "length of time-series i/o (4119, 3, 5) (4119,)\n",
            "Batch trimmed size (4118, 3, 5) (4118,)\n"
          ],
          "name": "stdout"
        }
      ]
    },
    {
      "cell_type": "markdown",
      "metadata": {
        "id": "Zs8a2u9jlxZt",
        "colab_type": "text"
      },
      "source": [
        "## Build time series"
      ]
    },
    {
      "cell_type": "code",
      "metadata": {
        "id": "PA2wbXQ7lv9x",
        "colab_type": "code",
        "outputId": "a6253436-4c1e-4514-f742-cd06cf07769f",
        "colab": {
          "base_uri": "https://localhost:8080/",
          "height": 122,
          "referenced_widgets": [
            "7358d75e1b1946eabb5983d0091a9ad6",
            "638211ed073a42f49b5658a1f4d93f60",
            "0ffb4284a94c49adbd8f6ef309925b9c",
            "fe17f90560e8454b9e1ccbaed7c9d692",
            "e1bc88644be541d0bd5984a23ea8960f",
            "4d7262a8942c43f1a564cea2cb223ef1",
            "8d5d15fd43a040c19a8429e8f5f65d0f",
            "fc59938963fb4b1bb091757f3f3ebba6"
          ]
        }
      },
      "source": [
        "x_temp, y_temp = build_timeseries(x_test, 3)\n",
        "x_val, x_test_t = np.split(trim_dataset(x_temp, BATCH_SIZE),2)\n",
        "y_val, y_test_t = np.split(trim_dataset(y_temp, BATCH_SIZE),2)\n",
        "print(\"Test size\", x_test_t.shape, y_test_t.shape, x_val.shape, y_val.shape)"
      ],
      "execution_count": 0,
      "outputs": [
        {
          "output_type": "stream",
          "text": [
            "dim_0 1028\n"
          ],
          "name": "stdout"
        },
        {
          "output_type": "display_data",
          "data": {
            "application/vnd.jupyter.widget-view+json": {
              "model_id": "7358d75e1b1946eabb5983d0091a9ad6",
              "version_minor": 0,
              "version_major": 2
            },
            "text/plain": [
              "HBox(children=(FloatProgress(value=0.0, max=1028.0), HTML(value='')))"
            ]
          },
          "metadata": {
            "tags": []
          }
        },
        {
          "output_type": "stream",
          "text": [
            "\n",
            "length of time-series i/o (1028, 3, 5) (1028,)\n",
            "Test size (514, 3, 5) (514,) (514, 3, 5) (514,)\n"
          ],
          "name": "stdout"
        }
      ]
    },
    {
      "cell_type": "markdown",
      "metadata": {
        "id": "dJ_1xazpl501",
        "colab_type": "text"
      },
      "source": [
        "## Load model"
      ]
    },
    {
      "cell_type": "code",
      "metadata": {
        "id": "09G5hAzMl16A",
        "colab_type": "code",
        "outputId": "1292a737-1218-49da-bd08-49bd2f62c9b6",
        "colab": {
          "base_uri": "https://localhost:8080/",
          "height": 35
        }
      },
      "source": [
        "saved_model = load_model(os.path.join(OUTPUT_PATH, 'best_model.h5')) # , \"lstm_best_7-3-19_12AM\",\n",
        "print(saved_model)"
      ],
      "execution_count": 0,
      "outputs": [
        {
          "output_type": "stream",
          "text": [
            "<keras.engine.sequential.Sequential object at 0x7f259c0faba8>\n"
          ],
          "name": "stdout"
        }
      ]
    },
    {
      "cell_type": "code",
      "metadata": {
        "id": "YH8NO_dFl5Hf",
        "colab_type": "code",
        "outputId": "65e01271-fe7e-4883-ac34-9c9e8f9a19a8",
        "colab": {
          "base_uri": "https://localhost:8080/",
          "height": 54
        }
      },
      "source": [
        "y_pred = saved_model.predict(trim_dataset(x_test_t, BATCH_SIZE), batch_size=BATCH_SIZE)\n",
        "y_pred = y_pred.flatten()\n",
        "y_test_t = trim_dataset(y_test_t, BATCH_SIZE)\n",
        "error = mean_squared_error(y_test_t, y_pred)\n",
        "print(\"Error is:\", error, y_pred.shape, y_test_t.shape)\n",
        "print(\"Accuracy is:\", (100 - error), y_pred.shape, y_test_t.shape)\n",
        "#print(y_pred[0:15])\n",
        "#print(y_test_t[0:15])"
      ],
      "execution_count": 0,
      "outputs": [
        {
          "output_type": "stream",
          "text": [
            "Error is: 2.487408958009176 (514,) (514,)\n",
            "Accuracy is: 97.51259104199083 (514,) (514,)\n"
          ],
          "name": "stdout"
        }
      ]
    },
    {
      "cell_type": "code",
      "metadata": {
        "id": "pdB51Kj4mBGB",
        "colab_type": "code",
        "outputId": "b7e6cf1e-03cc-48f7-b4a8-eefeba5fab92",
        "colab": {
          "base_uri": "https://localhost:8080/",
          "height": 109
        }
      },
      "source": [
        "# convert the predicted value to range of real data\n",
        "y_pred_org = (y_pred * min_max_scaler.data_range_[3]) + min_max_scaler.data_min_[3]\n",
        "# min_max_scaler.inverse_transform(y_pred)\n",
        "y_test_t_org = (y_test_t * min_max_scaler.data_range_[3]) + min_max_scaler.data_min_[3]\n",
        "# min_max_scaler.inverse_transform(y_test_t)\n",
        "print(y_pred_org[0:15])\n",
        "print(y_test_t_org[0:15])"
      ],
      "execution_count": 0,
      "outputs": [
        {
          "output_type": "stream",
          "text": [
            "[302.4699  302.55817 315.27563 315.30435 316.38107 316.3841  316.62518\n",
            " 316.6401  316.74567 316.7629  316.78415 316.78864 316.8267  316.84546\n",
            " 316.85126]\n",
            "[626.55 625.9  628.35 625.31 640.95 655.65 659.37 655.49 659.68 673.25\n",
            " 665.6  642.35 647.81 643.3  663.54]\n"
          ],
          "name": "stdout"
        }
      ]
    },
    {
      "cell_type": "code",
      "metadata": {
        "id": "ej6c2S7nmEjr",
        "colab_type": "code",
        "outputId": "c4491926-1b66-4dde-f02d-b78ce187ad3a",
        "colab": {
          "base_uri": "https://localhost:8080/",
          "height": 476
        }
      },
      "source": [
        "# Visualize the prediction\n",
        "\n",
        "plt.figure(figsize=(12,7))\n",
        "plt.plot(y_pred_org)\n",
        "plt.plot(y_test_t_org)\n",
        "plt.title('Prediction vs Real Stock Price')\n",
        "plt.ylabel('Price')\n",
        "plt.xlabel('Days')\n",
        "plt.legend(['Prediction', 'Real'], loc='upper left')\n",
        "#plt.show()\n",
        "plt.savefig(os.path.join(OUTPUT_PATH, 'pred_vs_real_BS'+str(BATCH_SIZE)+\"_\"+time.ctime()+'.png'))\n",
        "print_time(\"program completed \", stime)"
      ],
      "execution_count": 0,
      "outputs": [
        {
          "output_type": "stream",
          "text": [
            "program completed  0.0 minutes :  20.0 seconds\n"
          ],
          "name": "stdout"
        },
        {
          "output_type": "display_data",
          "data": {
            "image/png": "[encoded data removed]",
            "text/plain": [
              "<Figure size 864x504 with 1 Axes>"
            ]
          },
          "metadata": {
            "tags": [],
            "needs_background": "light"
          }
        }
      ]
    }
  ]
}