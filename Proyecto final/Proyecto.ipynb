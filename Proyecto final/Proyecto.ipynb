{
 "cells": [
  {
   "cell_type": "code",
   "execution_count": 1,
   "metadata": {},
   "outputs": [],
   "source": [
    "import time\n",
    "import pickle\n",
    "import random\n",
    "import pandas as pd\n",
    "\n",
    "import numpy as np\n",
    "import matplotlib.pyplot as plt\n",
    "\n",
    "from sklearn.preprocessing import MinMaxScaler\n",
    "import scipy.optimize as op\n",
    "\n",
    "import copy"
   ]
  },
  {
   "cell_type": "code",
   "execution_count": 10,
   "metadata": {},
   "outputs": [
    {
     "data": {
      "text/plain": [
       "(306, 7)"
      ]
     },
     "execution_count": 10,
     "metadata": {},
     "output_type": "execute_result"
    }
   ],
   "source": [
    "filename = 'CL=F.csv'\n",
    "df = pd.read_csv(filename)\n",
    "df.shape"
   ]
  },
  {
   "cell_type": "code",
   "execution_count": 11,
   "metadata": {},
   "outputs": [
    {
     "data": {
      "text/html": [
       "<div>\n",
       "<style scoped>\n",
       "    .dataframe tbody tr th:only-of-type {\n",
       "        vertical-align: middle;\n",
       "    }\n",
       "\n",
       "    .dataframe tbody tr th {\n",
       "        vertical-align: top;\n",
       "    }\n",
       "\n",
       "    .dataframe thead th {\n",
       "        text-align: right;\n",
       "    }\n",
       "</style>\n",
       "<table border=\"1\" class=\"dataframe\">\n",
       "  <thead>\n",
       "    <tr style=\"text-align: right;\">\n",
       "      <th></th>\n",
       "      <th>Date</th>\n",
       "      <th>Open</th>\n",
       "      <th>High</th>\n",
       "      <th>Low</th>\n",
       "      <th>Close</th>\n",
       "      <th>Adj Close</th>\n",
       "      <th>Volume</th>\n",
       "    </tr>\n",
       "  </thead>\n",
       "  <tbody>\n",
       "    <tr>\n",
       "      <th>0</th>\n",
       "      <td>2019-05-06</td>\n",
       "      <td>61.430000</td>\n",
       "      <td>62.950001</td>\n",
       "      <td>60.040001</td>\n",
       "      <td>62.250000</td>\n",
       "      <td>62.250000</td>\n",
       "      <td>646866.0</td>\n",
       "    </tr>\n",
       "    <tr>\n",
       "      <th>1</th>\n",
       "      <td>2019-05-07</td>\n",
       "      <td>62.169998</td>\n",
       "      <td>62.490002</td>\n",
       "      <td>60.660000</td>\n",
       "      <td>61.400002</td>\n",
       "      <td>61.400002</td>\n",
       "      <td>768810.0</td>\n",
       "    </tr>\n",
       "    <tr>\n",
       "      <th>2</th>\n",
       "      <td>2019-05-08</td>\n",
       "      <td>61.439999</td>\n",
       "      <td>62.369999</td>\n",
       "      <td>61.070000</td>\n",
       "      <td>62.119999</td>\n",
       "      <td>62.119999</td>\n",
       "      <td>842810.0</td>\n",
       "    </tr>\n",
       "    <tr>\n",
       "      <th>3</th>\n",
       "      <td>2019-05-09</td>\n",
       "      <td>62.020000</td>\n",
       "      <td>62.209999</td>\n",
       "      <td>60.919998</td>\n",
       "      <td>61.700001</td>\n",
       "      <td>61.700001</td>\n",
       "      <td>791769.0</td>\n",
       "    </tr>\n",
       "    <tr>\n",
       "      <th>4</th>\n",
       "      <td>2019-05-10</td>\n",
       "      <td>61.639999</td>\n",
       "      <td>62.490002</td>\n",
       "      <td>61.419998</td>\n",
       "      <td>61.660000</td>\n",
       "      <td>61.660000</td>\n",
       "      <td>769583.0</td>\n",
       "    </tr>\n",
       "  </tbody>\n",
       "</table>\n",
       "</div>"
      ],
      "text/plain": [
       "         Date       Open       High        Low      Close  Adj Close    Volume\n",
       "0  2019-05-06  61.430000  62.950001  60.040001  62.250000  62.250000  646866.0\n",
       "1  2019-05-07  62.169998  62.490002  60.660000  61.400002  61.400002  768810.0\n",
       "2  2019-05-08  61.439999  62.369999  61.070000  62.119999  62.119999  842810.0\n",
       "3  2019-05-09  62.020000  62.209999  60.919998  61.700001  61.700001  791769.0\n",
       "4  2019-05-10  61.639999  62.490002  61.419998  61.660000  61.660000  769583.0"
      ]
     },
     "execution_count": 11,
     "metadata": {},
     "output_type": "execute_result"
    }
   ],
   "source": [
    "df.head()"
   ]
  },
  {
   "cell_type": "code",
   "execution_count": 12,
   "metadata": {},
   "outputs": [
    {
     "data": {
      "text/html": [
       "<div>\n",
       "<style scoped>\n",
       "    .dataframe tbody tr th:only-of-type {\n",
       "        vertical-align: middle;\n",
       "    }\n",
       "\n",
       "    .dataframe tbody tr th {\n",
       "        vertical-align: top;\n",
       "    }\n",
       "\n",
       "    .dataframe thead th {\n",
       "        text-align: right;\n",
       "    }\n",
       "</style>\n",
       "<table border=\"1\" class=\"dataframe\">\n",
       "  <thead>\n",
       "    <tr style=\"text-align: right;\">\n",
       "      <th></th>\n",
       "      <th>Date</th>\n",
       "      <th>Open</th>\n",
       "      <th>High</th>\n",
       "      <th>Low</th>\n",
       "      <th>Close</th>\n",
       "      <th>Adj Close</th>\n",
       "      <th>Volume</th>\n",
       "    </tr>\n",
       "  </thead>\n",
       "  <tbody>\n",
       "    <tr>\n",
       "      <th>301</th>\n",
       "      <td>2020-05-01</td>\n",
       "      <td>19.040001</td>\n",
       "      <td>20.480000</td>\n",
       "      <td>18.070000</td>\n",
       "      <td>18.840000</td>\n",
       "      <td>18.840000</td>\n",
       "      <td>368386.0</td>\n",
       "    </tr>\n",
       "    <tr>\n",
       "      <th>302</th>\n",
       "      <td>2020-05-03</td>\n",
       "      <td>19.170000</td>\n",
       "      <td>19.530001</td>\n",
       "      <td>18.500000</td>\n",
       "      <td>18.610001</td>\n",
       "      <td>18.610001</td>\n",
       "      <td>1107707.0</td>\n",
       "    </tr>\n",
       "    <tr>\n",
       "      <th>303</th>\n",
       "      <td>2020-05-04</td>\n",
       "      <td>19.110001</td>\n",
       "      <td>21.420000</td>\n",
       "      <td>18.049999</td>\n",
       "      <td>19.780001</td>\n",
       "      <td>19.780001</td>\n",
       "      <td>286630.0</td>\n",
       "    </tr>\n",
       "    <tr>\n",
       "      <th>304</th>\n",
       "      <td>2020-05-05</td>\n",
       "      <td>21.809999</td>\n",
       "      <td>26.080000</td>\n",
       "      <td>21.610001</td>\n",
       "      <td>25.790001</td>\n",
       "      <td>25.790001</td>\n",
       "      <td>168837572.0</td>\n",
       "    </tr>\n",
       "    <tr>\n",
       "      <th>305</th>\n",
       "      <td>2020-05-06</td>\n",
       "      <td>24.430000</td>\n",
       "      <td>25.580000</td>\n",
       "      <td>24.139999</td>\n",
       "      <td>24.490000</td>\n",
       "      <td>24.490000</td>\n",
       "      <td>26697271.0</td>\n",
       "    </tr>\n",
       "  </tbody>\n",
       "</table>\n",
       "</div>"
      ],
      "text/plain": [
       "           Date       Open       High        Low      Close  Adj Close  \\\n",
       "301  2020-05-01  19.040001  20.480000  18.070000  18.840000  18.840000   \n",
       "302  2020-05-03  19.170000  19.530001  18.500000  18.610001  18.610001   \n",
       "303  2020-05-04  19.110001  21.420000  18.049999  19.780001  19.780001   \n",
       "304  2020-05-05  21.809999  26.080000  21.610001  25.790001  25.790001   \n",
       "305  2020-05-06  24.430000  25.580000  24.139999  24.490000  24.490000   \n",
       "\n",
       "          Volume  \n",
       "301     368386.0  \n",
       "302    1107707.0  \n",
       "303     286630.0  \n",
       "304  168837572.0  \n",
       "305   26697271.0  "
      ]
     },
     "execution_count": 12,
     "metadata": {},
     "output_type": "execute_result"
    }
   ],
   "source": [
    "df.tail()"
   ]
  },
  {
   "cell_type": "code",
   "execution_count": null,
   "metadata": {},
   "outputs": [],
   "source": []
  }
 ],
 "metadata": {
  "kernelspec": {
   "display_name": "Python 3",
   "language": "python",
   "name": "python3"
  },
  "language_info": {
   "codemirror_mode": {
    "name": "ipython",
    "version": 3
   },
   "file_extension": ".py",
   "mimetype": "text/x-python",
   "name": "python",
   "nbconvert_exporter": "python",
   "pygments_lexer": "ipython3",
   "version": "3.7.5"
  }
 },
 "nbformat": 4,
 "nbformat_minor": 4
}
